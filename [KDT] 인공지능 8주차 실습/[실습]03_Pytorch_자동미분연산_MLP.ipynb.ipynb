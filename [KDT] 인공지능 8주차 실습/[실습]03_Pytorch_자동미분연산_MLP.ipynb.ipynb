{
 "cells": [
  {
   "cell_type": "markdown",
   "metadata": {
    "id": "q_lGKmGGqnTa"
   },
   "source": [
    "# Pytorch Tutoral - Autograd & MLP(Multi-layer perceptron)"
   ]
  },
  {
   "cell_type": "markdown",
   "metadata": {
    "id": "4WO0S9d_uHX6"
   },
   "source": [
    "# Autograd\n",
    "\n",
    "- `autograd`패키지는 텐서의 모든 연산에 대한 자동 미분을 제공\n",
    "- 실행-기반-정의(define-by-run) 프레임워크로, 코드를 어떻게 작성하여 실행하느냐에 따라 역전파가 정의된다는 것을 의미\n",
    "- 역전파는 학습 과정의 매 단계마다 달라짐\n"
   ]
  },
  {
   "cell_type": "markdown",
   "metadata": {
    "id": "SF17xKuauw9r"
   },
   "source": [
    "## Tensor\n",
    "\n",
    "- `torch.Tensor` 클래스의 `.requires_grad` 속성을 `True`로 설정하면, 해당 텐서에서 이루어진 모든 연산을 추적(track)하기 시작\n",
    "- 계산이 완료된 후 `.backward()`를 호출하여 모든 변화도(gradient)를 자동으로 계산할 수 있으며 이 Tensor의 변화도는 `.grad` 속성에 누적됨\n",
    "- Tensor가 기록을 추적하는 것을 중단하게 하려면, `.detach()`를 호출하여 연산기록으로부터 분리하여 연산이 추적되는 것을 방지할 수 있음\n",
    "- 기록을 추적하는 것(과 메모리를 사용하는 것)을 방지하기 위해서 코드 블럭을 `with torch.no_grad():`로 감쌀 수 있음\n",
    "- 이는 변화도(gradient)는 필요 없지만 `requires_grad=True`가 설정되어 학습 가능한 매개변수를 갖는 모델을 평가(evaluate)할 때 유용\n",
    "- Autograd 구현에서 `Function` 클래스는 매우 중요한 역할을 수행\n",
    "- `Tensor`와 `Function`은 서로 연결되어 있고 모든 연산 과정을 부호화하여 순환하지 않는 그래프를 생성\n",
    "- 각 tensor는 `.grad_fn` 속성을 가지고 있는데 이는 `Tensor`를 생성한 `Function`을 참조함(단, 사용자가 만든 Tensor는 예외이며, 사용자가 만든 Tensor가 아닌 연산에 의해 생긴 텐서와 같은 경우는 모두 `Function`을 참조)\n",
    "- 도함수를 계산하기 위해서는 `Tensor`의 `.backward()`를 호출하면 됨"
   ]
  },
  {
   "cell_type": "code",
   "execution_count": 1,
   "metadata": {
    "colab": {
     "base_uri": "https://localhost:8080/"
    },
    "id": "gTKjPjHGtsW1",
    "outputId": "90b19fda-ea20-45a3-b315-534df70f1781"
   },
   "outputs": [
    {
     "name": "stdout",
     "output_type": "stream",
     "text": [
      "1.10.2+cu102\n"
     ]
    }
   ],
   "source": [
    "import torch\n",
    "\n",
    "print(torch.__version__)"
   ]
  },
  {
   "cell_type": "code",
   "execution_count": 2,
   "metadata": {
    "colab": {
     "base_uri": "https://localhost:8080/"
    },
    "id": "Fvs-s2KpPp-h",
    "outputId": "38378dcc-2228-4a2a-a592-5cec9d2ce21e"
   },
   "outputs": [
    {
     "name": "stdout",
     "output_type": "stream",
     "text": [
      "tensor([[1., 1.],\n",
      "        [1., 1.]], requires_grad=True)\n",
      "None\n"
     ]
    }
   ],
   "source": [
    "# x의 연산 과적을 추적하기 위해 requires_grad=True로 설정\n",
    "x = torch.ones(2, 2, requires_grad=True)\n",
    "print(x)\n",
    "\n",
    "# 직접 생선한 Tensor이기 때문에 grad_fn이 None인 것을 확인할 수 있음\n",
    "print(x.grad_fn)"
   ]
  },
  {
   "cell_type": "code",
   "execution_count": 3,
   "metadata": {
    "colab": {
     "base_uri": "https://localhost:8080/"
    },
    "id": "jaqxHcfkPvQP",
    "outputId": "38558535-512a-4cdb-8b05-ea87db509b46"
   },
   "outputs": [
    {
     "name": "stdout",
     "output_type": "stream",
     "text": [
      "tensor([[3., 3.],\n",
      "        [3., 3.]], grad_fn=<AddBackward0>)\n"
     ]
    }
   ],
   "source": [
    "# y는 연산의 결과로 생성된 것이기 때문에 grad_fn을 갖고 있는 것을 확인 가능\n",
    "y = x + 2\n",
    "print(y)"
   ]
  },
  {
   "cell_type": "code",
   "execution_count": 4,
   "metadata": {
    "colab": {
     "base_uri": "https://localhost:8080/"
    },
    "id": "lw-YLFNBQoqa",
    "outputId": "6cd6453c-23cd-464d-91ef-5cc37a665ef9"
   },
   "outputs": [
    {
     "name": "stdout",
     "output_type": "stream",
     "text": [
      "<AddBackward0 object at 0x7f1d667caca0>\n"
     ]
    }
   ],
   "source": [
    "# 연산의 결과로 생성된 것이기 때문에 grad_fn을 갖는 것을 확인 가능\n",
    "print(y.grad_fn)"
   ]
  },
  {
   "cell_type": "code",
   "execution_count": 5,
   "metadata": {
    "colab": {
     "base_uri": "https://localhost:8080/"
    },
    "id": "Im5ImouqdyZd",
    "outputId": "7859207c-73c4-47f5-afad-a0ca86dfdd8e"
   },
   "outputs": [
    {
     "name": "stdout",
     "output_type": "stream",
     "text": [
      "tensor([[27., 27.],\n",
      "        [27., 27.]], grad_fn=<MulBackward0>)\n",
      "tensor(27., grad_fn=<MeanBackward0>)\n"
     ]
    }
   ],
   "source": [
    "z = y * y * 3\n",
    "out = z.mean()\n",
    "\n",
    "# 각각 사용한 func에 맞게 grad_fn이 생성된 것을 확인할 수 있음\n",
    "print(z)\n",
    "print(out)"
   ]
  },
  {
   "cell_type": "markdown",
   "metadata": {
    "id": "TF5JzkVjemZl"
   },
   "source": [
    "- `requires_grad_()`를 사용하면 기존 Tensor의 `requires_grad` 값을 바꿀 수 있음\n",
    "- 입력 값이 지정되지 않으면 기본 값은 `False`"
   ]
  },
  {
   "cell_type": "code",
   "execution_count": 6,
   "metadata": {
    "colab": {
     "base_uri": "https://localhost:8080/"
    },
    "id": "0NJ9HewEd_3_",
    "outputId": "bc8366af-0703-495e-8074-9cf314627fa4"
   },
   "outputs": [
    {
     "name": "stdout",
     "output_type": "stream",
     "text": [
      "tensor([[-0.5434, -1.0227],\n",
      "        [-0.3448, -2.2716]])\n"
     ]
    }
   ],
   "source": [
    "a = torch.randn(2, 2)\n",
    "print(a)"
   ]
  },
  {
   "cell_type": "code",
   "execution_count": 7,
   "metadata": {
    "colab": {
     "base_uri": "https://localhost:8080/"
    },
    "id": "pcnqPfCaezpt",
    "outputId": "753a6d76-d926-4de8-d122-ace7ebad889b"
   },
   "outputs": [
    {
     "name": "stdout",
     "output_type": "stream",
     "text": [
      "tensor([[1.0562, 1.5169],\n",
      "        [0.7691, 2.0830]])\n",
      "False\n"
     ]
    }
   ],
   "source": [
    "a = ((a * 3) / (a - 1))\n",
    "print(a)\n",
    "print(a.requires_grad)"
   ]
  },
  {
   "cell_type": "code",
   "execution_count": 8,
   "metadata": {
    "colab": {
     "base_uri": "https://localhost:8080/"
    },
    "id": "ItC00jyde5_2",
    "outputId": "36117d85-f005-4017-bc13-a9234622da82"
   },
   "outputs": [
    {
     "data": {
      "text/plain": [
       "tensor([[1.0562, 1.5169],\n",
       "        [0.7691, 2.0830]], requires_grad=True)"
      ]
     },
     "execution_count": 8,
     "metadata": {},
     "output_type": "execute_result"
    }
   ],
   "source": [
    "a.requires_grad_(True)"
   ]
  },
  {
   "cell_type": "code",
   "execution_count": 9,
   "metadata": {
    "colab": {
     "base_uri": "https://localhost:8080/"
    },
    "id": "mnzFfYAOe7p_",
    "outputId": "7b1f8143-6b84-4748-e9f7-79d93b95d4c0"
   },
   "outputs": [
    {
     "name": "stdout",
     "output_type": "stream",
     "text": [
      "True\n"
     ]
    }
   ],
   "source": [
    "print(a.requires_grad)"
   ]
  },
  {
   "cell_type": "code",
   "execution_count": 10,
   "metadata": {
    "colab": {
     "base_uri": "https://localhost:8080/"
    },
    "id": "fzRsVdI6e9G_",
    "outputId": "ca29930e-03a1-4bb2-b964-18eb14e6d30a"
   },
   "outputs": [
    {
     "name": "stdout",
     "output_type": "stream",
     "text": [
      "tensor(8.3469, grad_fn=<SumBackward0>)\n",
      "True\n"
     ]
    }
   ],
   "source": [
    "b = (a * a).sum()\n",
    "print(b)\n",
    "print(b.requires_grad)"
   ]
  },
  {
   "cell_type": "markdown",
   "metadata": {
    "id": "PvvApXb8fEwT"
   },
   "source": [
    "## 변화도(Gradient)\n",
    "\n",
    "- 참조: https://zhang-yang.medium.com/the-gradient-argument-in-pytorchs-backward-function-explained-by-examples-68f266950c29\n",
    "\n",
    "- 일반적으로 torch.autograd는 vector-Jacobian product를 계산하기 위해 사용된다. 수학적으로, $y = f(x)$(하나의 레이어라고 생각하자)에서 y의 x에 대한 gradient는 (x, y가 matrix일때) Jacobian으로 나타난다. 이를 J라고 하자. autograd를 어떠한 벡터 $v^T$가 주어질 때, $v^T J$를 계산하는 데에 사용할 것이다.\n",
    "- 이는 다음과 같이 활용된다. $l = g(y)$일 때, l의 y에 대한 기울기를 $v^T$라고 하면, l의 x에 대한 기울기는 $v^T J$로 나타내진다. 여기서, `y.backward(gradient)`는 곧 $v^T J$를 output으로 나타내며, 이것이 `x.grad` 값이 된다. 그러므로 `.backward(gradient=???)`의 `gradient` argument는 $v^T$를 사용자가 설정하여 지정해줄 수 있는 값을 의미하는 것이다. `gradient`의 default값은 `torch.tensor(1.)`이다.\n",
    "- `loss.backward()`와 같이 인자를 따로 제공하지 않고 사용하는 경우가 많으나, 이는 loss값이 **scala인 경우에만 가능**하다. 물론 loss값이 scala라도 따로 gradient를 마찬가지의 shape인 scala tensor로 별도 제공할 수도 있다.\n",
    "- 단 loss와 같이 backward()의 실행 대상이 되는 **output tensor**(여기서는 loss)가 **벡터로 주어지는 경우, 반드시 `gradient=torch.Tensor([])`를 제공**해야한다. 이는 output 텐서의 shape와 동일해야 한다."
   ]
  },
  {
   "cell_type": "code",
   "execution_count": 12,
   "metadata": {
    "colab": {
     "base_uri": "https://localhost:8080/",
     "height": 511
    },
    "id": "IFs3cy6DJIBz",
    "outputId": "51718146-6ba8-4345-d9aa-69b4145a7918"
   },
   "outputs": [
    {
     "name": "stdout",
     "output_type": "stream",
     "text": [
      "tensor(27., grad_fn=<MeanBackward0>)\n"
     ]
    },
    {
     "ename": "RuntimeError",
     "evalue": "Trying to backward through the graph a second time (or directly access saved tensors after they have already been freed). Saved intermediate values of the graph are freed when you call .backward() or autograd.grad(). Specify retain_graph=True if you need to backward through the graph a second time or if you need to access saved tensors after calling backward.",
     "output_type": "error",
     "traceback": [
      "\u001b[0;31m---------------------------------------------------------------------------\u001b[0m",
      "\u001b[0;31mRuntimeError\u001b[0m                              Traceback (most recent call last)",
      "\u001b[0;32m<ipython-input-12-92e2e3bb9706>\u001b[0m in \u001b[0;36m<module>\u001b[0;34m\u001b[0m\n\u001b[1;32m      5\u001b[0m \u001b[0my\u001b[0m\u001b[0;34m.\u001b[0m\u001b[0mretain_grad\u001b[0m\u001b[0;34m(\u001b[0m\u001b[0;34m)\u001b[0m     \u001b[0;31m# 중간 값에 대한 미분 값을 보고싶다면 해당 값에 대한 retain_grad()를 호출해야 함\u001b[0m\u001b[0;34m\u001b[0m\u001b[0;34m\u001b[0m\u001b[0m\n\u001b[1;32m      6\u001b[0m \u001b[0mz\u001b[0m\u001b[0;34m.\u001b[0m\u001b[0mretain_grad\u001b[0m\u001b[0;34m(\u001b[0m\u001b[0;34m)\u001b[0m\u001b[0;34m\u001b[0m\u001b[0;34m\u001b[0m\u001b[0m\n\u001b[0;32m----> 7\u001b[0;31m \u001b[0mout\u001b[0m\u001b[0;34m.\u001b[0m\u001b[0mbackward\u001b[0m\u001b[0;34m(\u001b[0m\u001b[0;34m)\u001b[0m      \u001b[0;31m# 여러 번 미분을 진행하기 위해서는 retain_graph=True로 설정해줘야 함(그렇지 않으면 아래처럼 에러 발생)\u001b[0m\u001b[0;34m\u001b[0m\u001b[0;34m\u001b[0m\u001b[0m\n\u001b[0m\u001b[1;32m      8\u001b[0m \u001b[0;34m\u001b[0m\u001b[0m\n\u001b[1;32m      9\u001b[0m \u001b[0;31m# out.backward(torch.tensor(1.))을 진행하는 것과 동일\u001b[0m\u001b[0;34m\u001b[0m\u001b[0;34m\u001b[0m\u001b[0;34m\u001b[0m\u001b[0m\n",
      "\u001b[0;32m~/.pyenv/versions/3.8.2/envs/initial_env/lib/python3.8/site-packages/torch/_tensor.py\u001b[0m in \u001b[0;36mbackward\u001b[0;34m(self, gradient, retain_graph, create_graph, inputs)\u001b[0m\n\u001b[1;32m    305\u001b[0m                 \u001b[0mcreate_graph\u001b[0m\u001b[0;34m=\u001b[0m\u001b[0mcreate_graph\u001b[0m\u001b[0;34m,\u001b[0m\u001b[0;34m\u001b[0m\u001b[0;34m\u001b[0m\u001b[0m\n\u001b[1;32m    306\u001b[0m                 inputs=inputs)\n\u001b[0;32m--> 307\u001b[0;31m         \u001b[0mtorch\u001b[0m\u001b[0;34m.\u001b[0m\u001b[0mautograd\u001b[0m\u001b[0;34m.\u001b[0m\u001b[0mbackward\u001b[0m\u001b[0;34m(\u001b[0m\u001b[0mself\u001b[0m\u001b[0;34m,\u001b[0m \u001b[0mgradient\u001b[0m\u001b[0;34m,\u001b[0m \u001b[0mretain_graph\u001b[0m\u001b[0;34m,\u001b[0m \u001b[0mcreate_graph\u001b[0m\u001b[0;34m,\u001b[0m \u001b[0minputs\u001b[0m\u001b[0;34m=\u001b[0m\u001b[0minputs\u001b[0m\u001b[0;34m)\u001b[0m\u001b[0;34m\u001b[0m\u001b[0;34m\u001b[0m\u001b[0m\n\u001b[0m\u001b[1;32m    308\u001b[0m \u001b[0;34m\u001b[0m\u001b[0m\n\u001b[1;32m    309\u001b[0m     \u001b[0;32mdef\u001b[0m \u001b[0mregister_hook\u001b[0m\u001b[0;34m(\u001b[0m\u001b[0mself\u001b[0m\u001b[0;34m,\u001b[0m \u001b[0mhook\u001b[0m\u001b[0;34m)\u001b[0m\u001b[0;34m:\u001b[0m\u001b[0;34m\u001b[0m\u001b[0;34m\u001b[0m\u001b[0m\n",
      "\u001b[0;32m~/.pyenv/versions/3.8.2/envs/initial_env/lib/python3.8/site-packages/torch/autograd/__init__.py\u001b[0m in \u001b[0;36mbackward\u001b[0;34m(tensors, grad_tensors, retain_graph, create_graph, grad_variables, inputs)\u001b[0m\n\u001b[1;32m    152\u001b[0m         \u001b[0mretain_graph\u001b[0m \u001b[0;34m=\u001b[0m \u001b[0mcreate_graph\u001b[0m\u001b[0;34m\u001b[0m\u001b[0;34m\u001b[0m\u001b[0m\n\u001b[1;32m    153\u001b[0m \u001b[0;34m\u001b[0m\u001b[0m\n\u001b[0;32m--> 154\u001b[0;31m     Variable._execution_engine.run_backward(\n\u001b[0m\u001b[1;32m    155\u001b[0m         \u001b[0mtensors\u001b[0m\u001b[0;34m,\u001b[0m \u001b[0mgrad_tensors_\u001b[0m\u001b[0;34m,\u001b[0m \u001b[0mretain_graph\u001b[0m\u001b[0;34m,\u001b[0m \u001b[0mcreate_graph\u001b[0m\u001b[0;34m,\u001b[0m \u001b[0minputs\u001b[0m\u001b[0;34m,\u001b[0m\u001b[0;34m\u001b[0m\u001b[0;34m\u001b[0m\u001b[0m\n\u001b[1;32m    156\u001b[0m         allow_unreachable=True, accumulate_grad=True)  # allow_unreachable flag\n",
      "\u001b[0;31mRuntimeError\u001b[0m: Trying to backward through the graph a second time (or directly access saved tensors after they have already been freed). Saved intermediate values of the graph are freed when you call .backward() or autograd.grad(). Specify retain_graph=True if you need to backward through the graph a second time or if you need to access saved tensors after calling backward."
     ]
    }
   ],
   "source": [
    "print(out)\n",
    "\n",
    "# 이전에 만든 out을 사용해서 역전파 진행\n",
    "\n",
    "y.retain_grad()     # 중간 값에 대한 미분 값을 보고싶다면 해당 값에 대한 retain_grad()를 호출해야 함\n",
    "z.retain_grad()\n",
    "out.backward()      # 여러 번 미분을 진행하기 위해서는 retain_graph=True로 설정해줘야 함(그렇지 않으면 아래처럼 에러 발생)\n",
    "\n",
    "# out.backward(torch.tensor(1.))을 진행하는 것과 동일\n",
    "# TensorA.backward(gradient=TensorB): gradient로 주어지는 TensorB는 TensorA와 같은 shape로, TensorA 자기 자신의 기울기(gradient)를 제공한다.\n",
    "print(x.grad)\n",
    "print(y.grad)\n",
    "print(z.grad)\n",
    "print(z.is_leaf)     # leaf node인지 확인\n",
    "\n",
    "out.backward()\n",
    "print(x.grad)\n",
    "print(y.grad)"
   ]
  },
  {
   "cell_type": "code",
   "execution_count": 13,
   "metadata": {
    "colab": {
     "base_uri": "https://localhost:8080/"
    },
    "id": "GNPynGc7JRTN",
    "outputId": "074007cf-06a3-4c26-b646-f540772af673"
   },
   "outputs": [
    {
     "name": "stdout",
     "output_type": "stream",
     "text": [
      "tensor(27., grad_fn=<MeanBackward0>)\n",
      "tensor([[4.5000, 4.5000],\n",
      "        [4.5000, 4.5000]])\n",
      "tensor([[4.5000, 4.5000],\n",
      "        [4.5000, 4.5000]])\n",
      "None\n",
      "False\n",
      "tensor([[9., 9.],\n",
      "        [9., 9.]])\n",
      "tensor([[9., 9.],\n",
      "        [9., 9.]])\n"
     ]
    },
    {
     "name": "stderr",
     "output_type": "stream",
     "text": [
      "/home/hanoul/.pyenv/versions/3.8.2/envs/initial_env/lib/python3.8/site-packages/torch/_tensor.py:1013: UserWarning: The .grad attribute of a Tensor that is not a leaf Tensor is being accessed. Its .grad attribute won't be populated during autograd.backward(). If you indeed want the .grad field to be populated for a non-leaf Tensor, use .retain_grad() on the non-leaf Tensor. If you access the non-leaf Tensor by mistake, make sure you access the leaf Tensor instead. See github.com/pytorch/pytorch/pull/30531 for more informations. (Triggered internally at  aten/src/ATen/core/TensorBody.h:417.)\n",
      "  return self._grad\n"
     ]
    }
   ],
   "source": [
    "x = torch.ones(2, 2, requires_grad=True)\n",
    "y = x + 2\n",
    "z = y * y * 3\n",
    "out = z.mean()\n",
    "\n",
    "print(out)\n",
    "\n",
    "y.retain_grad()\n",
    "out.backward(retain_graph=True)\n",
    "\n",
    "print(x.grad)\n",
    "print(y.grad)\n",
    "print(z.grad)       # z.retain_grad()를 호출하지 않으면 grad값을 저장하지 않기 때문에 grad 속성을 볼 수 없음\n",
    "print(z.is_leaf)\n",
    "\n",
    "out.backward()\n",
    "print(x.grad)\n",
    "print(y.grad)"
   ]
  },
  {
   "cell_type": "markdown",
   "metadata": {
    "id": "aEfWBA_IhY6V"
   },
   "source": [
    "$$ out = \\frac{1}{4} \\sum_{i} z_i $$\n",
    "$$ z_i = 3(x_i + 2)^2 $$\n",
    "- `z_i`를 미분한 값에 적용하면 4.5를 동일하게 출력할 수 있음\n",
    "\n",
    "\n",
    "\n",
    "\n"
   ]
  },
  {
   "cell_type": "markdown",
   "metadata": {
    "id": "jYSGfXrMhU9S"
   },
   "source": [
    "out(미분결과) = 1/4 * 6 * (x + 2) = 3/2(x+2) "
   ]
  },
  {
   "cell_type": "markdown",
   "metadata": {
    "id": "o0XT_UAPj01j"
   },
   "source": [
    "\n",
    "\n",
    "---\n",
    "\n",
    "\n"
   ]
  },
  {
   "cell_type": "markdown",
   "metadata": {
    "id": "EUbsQZvyjPw6"
   },
   "source": [
    "- 일반적으로 `torch.autograd`는 벡터-야코비안 곱을 계산하는 엔진\n",
    "- `torch.autograd`를 사용하면 전체 야코비안을 직접 계산할 수는 없지만, 벡터-야코비안 곱은 `backward`에 해당 벡터를 인자로 제공하여 얻을 수 있음"
   ]
  },
  {
   "cell_type": "code",
   "execution_count": 14,
   "metadata": {
    "id": "6i9NlL6NhBxo"
   },
   "outputs": [
    {
     "name": "stdout",
     "output_type": "stream",
     "text": [
      "tensor([-1123.6415,  -214.0234,   771.3936], grad_fn=<MulBackward0>)\n"
     ]
    }
   ],
   "source": [
    "x = torch.randn(3, requires_grad=True)\n",
    "\n",
    "y = x * 2\n",
    "\n",
    "while y.data.norm() < 1000:\n",
    "    y = y * 2\n",
    "\n",
    "print(y)"
   ]
  },
  {
   "cell_type": "code",
   "execution_count": 15,
   "metadata": {
    "id": "GQM3R2CAkEvw"
   },
   "outputs": [
    {
     "name": "stdout",
     "output_type": "stream",
     "text": [
      "tensor([5.1200e+01, 5.1200e+02, 5.1200e-02])\n"
     ]
    }
   ],
   "source": [
    "# scalar값이 아닌 y의 벡터-야코비안 곱을 구하는 과정\n",
    "v = torch.tensor([0.1, 1.0, 0.0001], dtype=torch.float)\n",
    "y.backward(v)\n",
    "\n",
    "print(x.grad)"
   ]
  },
  {
   "cell_type": "markdown",
   "metadata": {
    "id": "HOpIFRDiknBR"
   },
   "source": [
    "- `with torch.no_grad()`로 코드 블록을 감싸서 `autograd`가 `.requires_grad=True`인 Tensor의 연산 기록을 추적하는 것을 멈출 수도 있음"
   ]
  },
  {
   "cell_type": "code",
   "execution_count": 17,
   "metadata": {
    "id": "pVcZI7_ykkBy"
   },
   "outputs": [
    {
     "name": "stdout",
     "output_type": "stream",
     "text": [
      "True\n",
      "True\n",
      "False\n"
     ]
    }
   ],
   "source": [
    "print(x.requires_grad)\n",
    "print((x ** 2).requires_grad)\n",
    "\n",
    "with torch.no_grad():\n",
    "    print((x ** 2).requires_grad)"
   ]
  },
  {
   "cell_type": "markdown",
   "metadata": {
    "id": "64f5Z32tk5Kd"
   },
   "source": [
    "- 또는 `.detach()`를 호출하여 내용물은 같지만 `requires_grad`가 다른 새로운 텐서를 가져올 수 있음"
   ]
  },
  {
   "cell_type": "code",
   "execution_count": 19,
   "metadata": {
    "id": "kpct8uBPk3st"
   },
   "outputs": [
    {
     "name": "stdout",
     "output_type": "stream",
     "text": [
      "True\n",
      "False\n",
      "tensor(True)\n"
     ]
    }
   ],
   "source": [
    "print(x.requires_grad)\n",
    "y = x.detach()\n",
    "print(y.requires_grad)\n",
    "print(x.eq(y).all()) # tesorA.eq(tensorB) : tensor A, B가 동일한지 확인"
   ]
  },
  {
   "cell_type": "markdown",
   "metadata": {
    "id": "kw0wgV63lLfa"
   },
   "source": [
    "# ANN(Artificial Neural Networks)\n",
    "\n",
    "- 신경망은 `torch.nn` 패키지를 사용하여 생성할 수 있음\n",
    "- `nn`은 모델을 정의하고 미분하기 위해서 위에서 살펴본 `autograd`를 사용\n",
    "- `nn.Module`은 계층(layer)과 `output`을 반환하는 `forward(input)` 메소드를 포함"
   ]
  },
  {
   "cell_type": "markdown",
   "metadata": {
    "id": "K1CPO19LwmAI"
   },
   "source": [
    "\n",
    "\n",
    "---\n",
    "\n"
   ]
  },
  {
   "cell_type": "markdown",
   "metadata": {
    "id": "UIVy4DXNmqEN"
   },
   "source": [
    "- 간단한 순전파 네트워크(feed-forward-network)\n",
    "- 입력을 받아 여러 계층에 차례로 전달한 후, 최종 출력을 제공\n",
    "- 신경망의 일반적인 학습 과정\n",
    "\n",
    "\n",
    "> - 학습 가능한 매개변수(가중치)를 갖는 신경망을 정의\n",
    "> - 데이터 셋 입력을 반복\n",
    "> - 입력을 신경망에서 전파(process)\n",
    "> - 손실(loss; 입력 값과 예측 값과의 차이)를 계산\n",
    "> - 변화도(gradient)를 신경망의 매개변수들에 역으로 전파 - 역전파 과정\n",
    "> - 신경망의 가중치를 갱신\n",
    "> > - `새로운 가중치(weight) = 가중치(weight) - 학습률(learning rate) * 변화도(gradient)`\n",
    "\n"
   ]
  },
  {
   "cell_type": "code",
   "execution_count": 20,
   "metadata": {
    "id": "lSK4LCt5lGiJ"
   },
   "outputs": [],
   "source": [
    "import pandas as pd\n",
    "\n",
    "from sklearn.datasets import load_iris\n",
    "\n",
    "import torch\n",
    "import torch.nn as nn\n",
    "from torch.utils.data import DataLoader, TensorDataset"
   ]
  },
  {
   "cell_type": "code",
   "execution_count": 21,
   "metadata": {
    "id": "Q-G_wst4GaFd"
   },
   "outputs": [],
   "source": [
    "class Net(nn.Module):\n",
    "\n",
    "    def __init__(self):\n",
    "        super(Net, self).__init__()\n",
    "\n",
    "        self.layer0 = nn.Linear(4, 128)\n",
    "        self.layer1 = nn.Linear(128, 64)\n",
    "        self.layer2 = nn.Linear(64, 32)\n",
    "        self.layer3 = nn.Linear(32, 16)\n",
    "        self.layer4 = nn.Linear(16, 3)\n",
    "\n",
    "        self.bn0 = nn.BatchNorm1d(128) # Batch nomalization. 배치 단위의 값들을 정규화하여 값이 너무 튀지않도록 함\n",
    "        self.bn1 = nn.BatchNorm1d(64)\n",
    "        self.bn2 = nn.BatchNorm1d(32)\n",
    "\n",
    "        self.act = nn.ReLU()\n",
    "\n",
    "    def forward(self, x):\n",
    "        \n",
    "        x = self.act(self.bn0(self.layer0(x)))\n",
    "        x = self.act(self.bn1(self.layer1(x)))\n",
    "        x = self.act(self.bn2(self.layer2(x)))\n",
    "        x = self.act(self.layer3(x))\n",
    "        x = self.layer4(x)\n",
    "\n",
    "        return x"
   ]
  },
  {
   "cell_type": "markdown",
   "metadata": {
    "id": "1iriyhtY-wZy"
   },
   "source": [
    "## 손실 함수(Loss Function)\n",
    "\n",
    "- 손실 함수는 (output, target)을 한 쌍으로 입력 받아, 출력이 정답으로부터 얼마나 떨어져있는지 추정하는 값을 계산\n"
   ]
  },
  {
   "cell_type": "markdown",
   "metadata": {
    "id": "OZ8bodFU5R0q"
   },
   "source": [
    "- `forward`함수만 정의하고 나면 `backward`함수는 `autograd`를 사용하여 자동으로 정의됨\n",
    "- 모델의 학습 가능한 매개 변수는 `net.parameters()`에 의해 변환됨"
   ]
  },
  {
   "cell_type": "markdown",
   "metadata": {},
   "source": [
    "### Leaf Node와 .grad\n",
    "- requires_grad가 False인 Tensor는 보통 leaf Tensor가 됨\n",
    "- reauires_grad가 True이고, 사용자가 직접 만든 경우 leaf Tensor가 됨. 이 때는 연산의 결과가 아니므로 grad_fn이 None\n",
    "\n",
    "- leaf Tensor만이 backward()시 grad를 구성함\n",
    "- leaf Tensor가 아닌 Tensor에 대해 grad를 구성하려면, retain_grad를 사용\n",
    "\n",
    "- Computational Graph의 leaf node라는 뜻\n",
    "- Computational Graph에 포함되지 않는 node 역시 leaf node. Pytorch의 computation graph를 그릴 때 각 노드에 실제로 들어가는 것은 tensor의 grad_fn이다\n",
    "\n",
    "- 정리하자면, Tensor의 is_leaf가 True이고 required_grad가 True인 경우에 grad에 값이 저장된다.\n",
    "- 연산에 의해서 만들어진 Tensor는 grad_fn을 갖기 때문에, 사용자가 생성하고 required_grad=True인 Tensor들이 grad를 가진 주요 대상이라고 할 수 있다."
   ]
  },
  {
   "cell_type": "code",
   "execution_count": 22,
   "metadata": {
    "id": "RFQQ1Hd9-wDv"
   },
   "outputs": [
    {
     "name": "stdout",
     "output_type": "stream",
     "text": [
      "loss:  1.0904805660247803\n",
      "layer0.bias.grad before backward\n",
      "None\n",
      "True\n",
      "layer0.bias.grad after backward\n",
      "tensor([-0.1551,  0.0273,  0.1278])\n"
     ]
    },
    {
     "data": {
      "text/plain": [
       "'\\n이 부분에서 .retain_grad() 를 사용하지 않아도 되는 이유는 weight와 bias의 파라미터가 leaf 노드이기 때문이라고 합니다.\\n설명이 포함된 링크들을 아래에 첨부해두니 읽어보시면 좋을 것 같습니다 :)\\n\\n어떤 경우가 leaf 노드 인지 - https://discuss.pytorch.org/t/leaf-variable-was-used-in-an-inplace-operation/308/20\\n왜 leaf 노드인 경우에는 retain_grad()를 하지 않아도 grad 값이 나오는지 - https://discuss.pytorch.org/t/what-is-the-purpose-of-is-leaf/87000/7\\n'"
      ]
     },
     "execution_count": 22,
     "metadata": {},
     "output_type": "execute_result"
    }
   ],
   "source": [
    "# 랜덤 값 생성\n",
    "criterion = nn.CrossEntropyLoss() # 손실함수: 크로스엔트로피(다중분류에 주로 사용)\n",
    "\n",
    "ex_X, ex_y = torch.randn([4, 4]), torch.tensor([1, 0, 2, 0]) # 랜덤 input과 정답 레이블\n",
    "\n",
    "net = Net()\n",
    "output = net(ex_X)\n",
    "loss = criterion(output, ex_y)\n",
    "print('loss: ', loss.item())\n",
    "  \n",
    "net.zero_grad() # 학습 전 gradient 우선 초기화\n",
    "\n",
    "print('layer0.bias.grad before backward')\n",
    "print(net.layer4.bias.grad)\n",
    "\n",
    "print(net.layer4.bias.is_leaf)\n",
    "\n",
    "loss.backward() # 역전파(gradient 구하기)\n",
    "\n",
    "print('layer0.bias.grad after backward')\n",
    "print(net.layer4.bias.grad)\n",
    "\n",
    "\"\"\"\n",
    "이 부분에서 .retain_grad() 를 사용하지 않아도 되는 이유는 weight와 bias의 파라미터가 leaf 노드이기 때문이라고 합니다.\n",
    "설명이 포함된 링크들을 아래에 첨부해두니 읽어보시면 좋을 것 같습니다 :)\n",
    "\n",
    "어떤 경우가 leaf 노드 인지 - https://discuss.pytorch.org/t/leaf-variable-was-used-in-an-inplace-operation/308/20\n",
    "왜 leaf 노드인 경우에는 retain_grad()를 하지 않아도 grad 값이 나오는지 - https://discuss.pytorch.org/t/what-is-the-purpose-of-is-leaf/87000/7\n",
    "\"\"\""
   ]
  },
  {
   "cell_type": "code",
   "execution_count": 23,
   "metadata": {
    "id": "tJ8Re3qL-ICi"
   },
   "outputs": [
    {
     "name": "stdout",
     "output_type": "stream",
     "text": [
      "16\n",
      "torch.Size([128, 4])\n"
     ]
    }
   ],
   "source": [
    "params = list(net.parameters())\n",
    "print(len(params))\n",
    "print(params[0].size())  # layer0의 weight"
   ]
  },
  {
   "cell_type": "markdown",
   "metadata": {
    "id": "stc5MlORHVss"
   },
   "source": [
    "## 가중치 갱신\n",
    "- 가장 단순한 갱신 규칙은 확률적 경사하강법(SGD; Stochastic Gradient Descent)\n",
    "- `새로운 가중치(weight) = 가중치(weight) - 학습률(learning rate) * 변화도(gradient)`"
   ]
  },
  {
   "cell_type": "code",
   "execution_count": 24,
   "metadata": {
    "id": "do674u-5HYdI"
   },
   "outputs": [],
   "source": [
    "# torch.optim 패키지에 다양한 갱신 규칙이 규현되어 있음\n",
    "\n",
    "import torch.optim as optim\n",
    "\n",
    "# optimizer setting\n",
    "optimizer = optim.SGD(net.parameters(), lr=0.001)\n",
    "optimizer.zero_grad()\n",
    "\n",
    "# SGD update\n",
    "output = net(ex_X)\n",
    "loss = criterion(output, ex_y)\n",
    "loss.backward()\n",
    "optimizer.step()  # 업데이트 진행"
   ]
  },
  {
   "cell_type": "markdown",
   "metadata": {
    "id": "bS5ZVLPDnVYN"
   },
   "source": [
    "## MLP 모델"
   ]
  },
  {
   "cell_type": "code",
   "execution_count": 25,
   "metadata": {
    "id": "xyLsrD2AoMsz"
   },
   "outputs": [
    {
     "name": "stdout",
     "output_type": "stream",
     "text": [
      ".. _iris_dataset:\n",
      "\n",
      "Iris plants dataset\n",
      "--------------------\n",
      "\n",
      "**Data Set Characteristics:**\n",
      "\n",
      "    :Number of Instances: 150 (50 in each of three classes)\n",
      "    :Number of Attributes: 4 numeric, predictive attributes and the class\n",
      "    :Attribute Information:\n",
      "        - sepal length in cm\n",
      "        - sepal width in cm\n",
      "        - petal length in cm\n",
      "        - petal width in cm\n",
      "        - class:\n",
      "                - Iris-Setosa\n",
      "                - Iris-Versicolour\n",
      "                - Iris-Virginica\n",
      "                \n",
      "    :Summary Statistics:\n",
      "\n",
      "    ============== ==== ==== ======= ===== ====================\n",
      "                    Min  Max   Mean    SD   Class Correlation\n",
      "    ============== ==== ==== ======= ===== ====================\n",
      "    sepal length:   4.3  7.9   5.84   0.83    0.7826\n",
      "    sepal width:    2.0  4.4   3.05   0.43   -0.4194\n",
      "    petal length:   1.0  6.9   3.76   1.76    0.9490  (high!)\n",
      "    petal width:    0.1  2.5   1.20   0.76    0.9565  (high!)\n",
      "    ============== ==== ==== ======= ===== ====================\n",
      "\n",
      "    :Missing Attribute Values: None\n",
      "    :Class Distribution: 33.3% for each of 3 classes.\n",
      "    :Creator: R.A. Fisher\n",
      "    :Donor: Michael Marshall (MARSHALL%PLU@io.arc.nasa.gov)\n",
      "    :Date: July, 1988\n",
      "\n",
      "The famous Iris database, first used by Sir R.A. Fisher. The dataset is taken\n",
      "from Fisher's paper. Note that it's the same as in R, but not as in the UCI\n",
      "Machine Learning Repository, which has two wrong data points.\n",
      "\n",
      "This is perhaps the best known database to be found in the\n",
      "pattern recognition literature.  Fisher's paper is a classic in the field and\n",
      "is referenced frequently to this day.  (See Duda & Hart, for example.)  The\n",
      "data set contains 3 classes of 50 instances each, where each class refers to a\n",
      "type of iris plant.  One class is linearly separable from the other 2; the\n",
      "latter are NOT linearly separable from each other.\n",
      "\n",
      ".. topic:: References\n",
      "\n",
      "   - Fisher, R.A. \"The use of multiple measurements in taxonomic problems\"\n",
      "     Annual Eugenics, 7, Part II, 179-188 (1936); also in \"Contributions to\n",
      "     Mathematical Statistics\" (John Wiley, NY, 1950).\n",
      "   - Duda, R.O., & Hart, P.E. (1973) Pattern Classification and Scene Analysis.\n",
      "     (Q327.D83) John Wiley & Sons.  ISBN 0-471-22361-1.  See page 218.\n",
      "   - Dasarathy, B.V. (1980) \"Nosing Around the Neighborhood: A New System\n",
      "     Structure and Classification Rule for Recognition in Partially Exposed\n",
      "     Environments\".  IEEE Transactions on Pattern Analysis and Machine\n",
      "     Intelligence, Vol. PAMI-2, No. 1, 67-71.\n",
      "   - Gates, G.W. (1972) \"The Reduced Nearest Neighbor Rule\".  IEEE Transactions\n",
      "     on Information Theory, May 1972, 431-433.\n",
      "   - See also: 1988 MLC Proceedings, 54-64.  Cheeseman et al\"s AUTOCLASS II\n",
      "     conceptual clustering system finds 3 classes in the data.\n",
      "   - Many, many more ...\n"
     ]
    }
   ],
   "source": [
    "dataset = load_iris()\n",
    "\n",
    "data = dataset.data\n",
    "label = dataset.target\n",
    "\n",
    "print(dataset.DESCR)"
   ]
  },
  {
   "cell_type": "code",
   "execution_count": 26,
   "metadata": {
    "id": "G8loKlfN0JOc"
   },
   "outputs": [
    {
     "name": "stdout",
     "output_type": "stream",
     "text": [
      "shape of data:  (150, 4)\n",
      "shape of label:  (150,)\n"
     ]
    }
   ],
   "source": [
    "print('shape of data: ', data.shape)\n",
    "print('shape of label: ',label.shape)"
   ]
  },
  {
   "cell_type": "code",
   "execution_count": 30,
   "metadata": {
    "id": "y3xw0IFk0XjL"
   },
   "outputs": [
    {
     "name": "stdout",
     "output_type": "stream",
     "text": [
      "112\n",
      "38\n"
     ]
    }
   ],
   "source": [
    "# 훈련과 테스트 데이터로 나누기\n",
    "from sklearn.model_selection import train_test_split\n",
    "\n",
    "X_train, X_test, y_train, y_test = train_test_split(data, label, test_size=0.25)\n",
    "print(len(X_train))\n",
    "print(len(X_test))"
   ]
  },
  {
   "cell_type": "code",
   "execution_count": 31,
   "metadata": {
    "id": "qiHojNiZ0XgW"
   },
   "outputs": [],
   "source": [
    "# DataLoader 생성\n",
    "X_train = torch.from_numpy(X_train).float()\n",
    "y_train = torch.from_numpy(y_train).long()\n",
    "\n",
    "X_test = torch.from_numpy(X_test).float()\n",
    "y_test = torch.from_numpy(y_test).long()\n",
    "\n",
    "train_set = TensorDataset(X_train, y_train) # torch의 Dataset Class 중 Tensor 데이터를 다루는 Dataset\n",
    "\n",
    "train_loader = DataLoader(train_set, batch_size=4, shuffle=True)"
   ]
  },
  {
   "cell_type": "code",
   "execution_count": 32,
   "metadata": {
    "id": "RKMCSkmw0XdW"
   },
   "outputs": [],
   "source": [
    "class Net(nn.Module):\n",
    "\n",
    "    def __init__(self):\n",
    "        super(Net, self).__init__()\n",
    "\n",
    "        self.layer0 = nn.Linear(4, 128)\n",
    "        self.layer1 = nn.Linear(128, 64)\n",
    "        self.layer2 = nn.Linear(64, 32)\n",
    "        self.layer3 = nn.Linear(32, 16)\n",
    "        self.layer4 = nn.Linear(16, 3)\n",
    "\n",
    "        self.bn0 = nn.BatchNorm1d(128)\n",
    "        self.bn1 = nn.BatchNorm1d(64)\n",
    "        self.bn2 = nn.BatchNorm1d(32)\n",
    "\n",
    "        self.act = nn.ReLU()\n",
    "\n",
    "    def forward(self, x):\n",
    "        x = self.act(self.bn0(self.layer0(x)))\n",
    "        x = self.act(self.bn1(self.layer1(x)))\n",
    "        x = self.act(self.bn2(self.layer2(x)))\n",
    "        x = self.act(self.layer3(x))\n",
    "        x = self.layer4(x)\n",
    "\n",
    "        return x\n",
    "      # return nn.Softmax(x)"
   ]
  },
  {
   "cell_type": "code",
   "execution_count": 33,
   "metadata": {
    "id": "_JwxsEnD0XWK"
   },
   "outputs": [
    {
     "name": "stdout",
     "output_type": "stream",
     "text": [
      "Net(\n",
      "  (layer0): Linear(in_features=4, out_features=128, bias=True)\n",
      "  (layer1): Linear(in_features=128, out_features=64, bias=True)\n",
      "  (layer2): Linear(in_features=64, out_features=32, bias=True)\n",
      "  (layer3): Linear(in_features=32, out_features=16, bias=True)\n",
      "  (layer4): Linear(in_features=16, out_features=3, bias=True)\n",
      "  (bn0): BatchNorm1d(128, eps=1e-05, momentum=0.1, affine=True, track_running_stats=True)\n",
      "  (bn1): BatchNorm1d(64, eps=1e-05, momentum=0.1, affine=True, track_running_stats=True)\n",
      "  (bn2): BatchNorm1d(32, eps=1e-05, momentum=0.1, affine=True, track_running_stats=True)\n",
      "  (act): ReLU()\n",
      ")\n"
     ]
    }
   ],
   "source": [
    "net = Net()\n",
    "print(net)"
   ]
  },
  {
   "cell_type": "code",
   "execution_count": 34,
   "metadata": {
    "id": "tTzItXLv24HR"
   },
   "outputs": [],
   "source": [
    "optimizer = torch.optim.SGD(net.parameters(), lr=0.001)\n",
    "criterion = nn.CrossEntropyLoss()\n",
    "epochs = 200"
   ]
  },
  {
   "cell_type": "code",
   "execution_count": 35,
   "metadata": {
    "id": "s7TSeMPP3TwB"
   },
   "outputs": [
    {
     "name": "stdout",
     "output_type": "stream",
     "text": [
      "epoch :001, \tloss :1.0817, \taccuracy :0.4018\n",
      "epoch :002, \tloss :1.0645, \taccuracy :0.4911\n",
      "epoch :003, \tloss :1.0544, \taccuracy :0.5357\n",
      "epoch :004, \tloss :1.0488, \taccuracy :0.6161\n",
      "epoch :005, \tloss :1.0278, \taccuracy :0.6607\n",
      "epoch :006, \tloss :1.045, \taccuracy :0.5982\n",
      "epoch :007, \tloss :1.0234, \taccuracy :0.6696\n",
      "epoch :008, \tloss :1.0032, \taccuracy :0.7946\n",
      "epoch :009, \tloss :1.013, \taccuracy :0.6786\n",
      "epoch :010, \tloss :1.0048, \taccuracy :0.6786\n",
      "epoch :011, \tloss :1.0024, \taccuracy :0.7143\n",
      "epoch :012, \tloss :0.9703, \taccuracy :0.7679\n",
      "epoch :013, \tloss :0.9907, \taccuracy :0.6964\n",
      "epoch :014, \tloss :0.9748, \taccuracy :0.7232\n",
      "epoch :015, \tloss :0.9583, \taccuracy :0.75\n",
      "epoch :016, \tloss :0.9677, \taccuracy :0.6964\n",
      "epoch :017, \tloss :0.9263, \taccuracy :0.7589\n",
      "epoch :018, \tloss :0.9049, \taccuracy :0.8214\n",
      "epoch :019, \tloss :0.9407, \taccuracy :0.6964\n",
      "epoch :020, \tloss :0.9042, \taccuracy :0.7411\n",
      "epoch :021, \tloss :0.919, \taccuracy :0.7321\n",
      "epoch :022, \tloss :0.9271, \taccuracy :0.6964\n",
      "epoch :023, \tloss :0.8714, \taccuracy :0.7679\n",
      "epoch :024, \tloss :0.8479, \taccuracy :0.7768\n",
      "epoch :025, \tloss :0.8738, \taccuracy :0.7589\n",
      "epoch :026, \tloss :0.8924, \taccuracy :0.7321\n",
      "epoch :027, \tloss :0.8593, \taccuracy :0.7589\n",
      "epoch :028, \tloss :0.8693, \taccuracy :0.7054\n",
      "epoch :029, \tloss :0.8655, \taccuracy :0.75\n",
      "epoch :030, \tloss :0.848, \taccuracy :0.75\n",
      "epoch :031, \tloss :0.8897, \taccuracy :0.6875\n",
      "epoch :032, \tloss :0.865, \taccuracy :0.6875\n",
      "epoch :033, \tloss :0.7945, \taccuracy :0.8125\n",
      "epoch :034, \tloss :0.8371, \taccuracy :0.7589\n",
      "epoch :035, \tloss :0.7762, \taccuracy :0.8214\n",
      "epoch :036, \tloss :0.7879, \taccuracy :0.7946\n",
      "epoch :037, \tloss :0.7975, \taccuracy :0.7857\n",
      "epoch :038, \tloss :0.7676, \taccuracy :0.8125\n",
      "epoch :039, \tloss :0.796, \taccuracy :0.7589\n",
      "epoch :040, \tloss :0.7955, \taccuracy :0.7768\n",
      "epoch :041, \tloss :0.7964, \taccuracy :0.7232\n",
      "epoch :042, \tloss :0.7972, \taccuracy :0.7143\n",
      "epoch :043, \tloss :0.7686, \taccuracy :0.7589\n",
      "epoch :044, \tloss :0.7586, \taccuracy :0.7679\n",
      "epoch :045, \tloss :0.7193, \taccuracy :0.7768\n",
      "epoch :046, \tloss :0.7431, \taccuracy :0.7679\n",
      "epoch :047, \tloss :0.7128, \taccuracy :0.8304\n",
      "epoch :048, \tloss :0.7235, \taccuracy :0.7768\n",
      "epoch :049, \tloss :0.7246, \taccuracy :0.7946\n",
      "epoch :050, \tloss :0.7588, \taccuracy :0.7232\n",
      "epoch :051, \tloss :0.727, \taccuracy :0.7321\n",
      "epoch :052, \tloss :0.71, \taccuracy :0.7768\n",
      "epoch :053, \tloss :0.7098, \taccuracy :0.7768\n",
      "epoch :054, \tloss :0.6978, \taccuracy :0.7679\n",
      "epoch :055, \tloss :0.6597, \taccuracy :0.7946\n",
      "epoch :056, \tloss :0.7308, \taccuracy :0.75\n",
      "epoch :057, \tloss :0.6926, \taccuracy :0.8214\n",
      "epoch :058, \tloss :0.7049, \taccuracy :0.7768\n",
      "epoch :059, \tloss :0.6512, \taccuracy :0.8036\n",
      "epoch :060, \tloss :0.6907, \taccuracy :0.75\n",
      "epoch :061, \tloss :0.6643, \taccuracy :0.7768\n",
      "epoch :062, \tloss :0.6834, \taccuracy :0.7411\n",
      "epoch :063, \tloss :0.6491, \taccuracy :0.8214\n",
      "epoch :064, \tloss :0.737, \taccuracy :0.7232\n",
      "epoch :065, \tloss :0.6478, \taccuracy :0.8393\n",
      "epoch :066, \tloss :0.7212, \taccuracy :0.7321\n",
      "epoch :067, \tloss :0.6704, \taccuracy :0.75\n",
      "epoch :068, \tloss :0.7194, \taccuracy :0.7321\n",
      "epoch :069, \tloss :0.6223, \taccuracy :0.8214\n",
      "epoch :070, \tloss :0.6296, \taccuracy :0.7768\n",
      "epoch :071, \tloss :0.6246, \taccuracy :0.8214\n",
      "epoch :072, \tloss :0.6863, \taccuracy :0.7321\n",
      "epoch :073, \tloss :0.634, \taccuracy :0.8214\n",
      "epoch :074, \tloss :0.6419, \taccuracy :0.7679\n",
      "epoch :075, \tloss :0.6294, \taccuracy :0.7857\n",
      "epoch :076, \tloss :0.6765, \taccuracy :0.7054\n",
      "epoch :077, \tloss :0.5915, \taccuracy :0.7857\n",
      "epoch :078, \tloss :0.6125, \taccuracy :0.8304\n",
      "epoch :079, \tloss :0.5983, \taccuracy :0.7946\n",
      "epoch :080, \tloss :0.6202, \taccuracy :0.8125\n",
      "epoch :081, \tloss :0.5815, \taccuracy :0.8125\n",
      "epoch :082, \tloss :0.5634, \taccuracy :0.7946\n",
      "epoch :083, \tloss :0.5456, \taccuracy :0.8125\n",
      "epoch :084, \tloss :0.5476, \taccuracy :0.8214\n",
      "epoch :085, \tloss :0.6693, \taccuracy :0.7411\n",
      "epoch :086, \tloss :0.5184, \taccuracy :0.8571\n",
      "epoch :087, \tloss :0.6369, \taccuracy :0.75\n",
      "epoch :088, \tloss :0.536, \taccuracy :0.8036\n",
      "epoch :089, \tloss :0.5741, \taccuracy :0.8125\n",
      "epoch :090, \tloss :0.6302, \taccuracy :0.7589\n",
      "epoch :091, \tloss :0.572, \taccuracy :0.7857\n",
      "epoch :092, \tloss :0.5939, \taccuracy :0.7679\n",
      "epoch :093, \tloss :0.6929, \taccuracy :0.7143\n",
      "epoch :094, \tloss :0.5237, \taccuracy :0.8214\n",
      "epoch :095, \tloss :0.5122, \taccuracy :0.8661\n",
      "epoch :096, \tloss :0.5733, \taccuracy :0.8036\n",
      "epoch :097, \tloss :0.6122, \taccuracy :0.7679\n",
      "epoch :098, \tloss :0.4604, \taccuracy :0.8661\n",
      "epoch :099, \tloss :0.5763, \taccuracy :0.7946\n",
      "epoch :100, \tloss :0.6222, \taccuracy :0.7321\n",
      "epoch :101, \tloss :0.5536, \taccuracy :0.8214\n",
      "epoch :102, \tloss :0.4845, \taccuracy :0.8661\n",
      "epoch :103, \tloss :0.5919, \taccuracy :0.7857\n",
      "epoch :104, \tloss :0.5393, \taccuracy :0.7946\n",
      "epoch :105, \tloss :0.5976, \taccuracy :0.7768\n",
      "epoch :106, \tloss :0.6043, \taccuracy :0.7857\n",
      "epoch :107, \tloss :0.5714, \taccuracy :0.7768\n",
      "epoch :108, \tloss :0.5655, \taccuracy :0.8036\n",
      "epoch :109, \tloss :0.5199, \taccuracy :0.8036\n",
      "epoch :110, \tloss :0.5601, \taccuracy :0.7857\n",
      "epoch :111, \tloss :0.6327, \taccuracy :0.7321\n",
      "epoch :112, \tloss :0.7026, \taccuracy :0.7054\n",
      "epoch :113, \tloss :0.6106, \taccuracy :0.7411\n",
      "epoch :114, \tloss :0.4665, \taccuracy :0.8571\n",
      "epoch :115, \tloss :0.4603, \taccuracy :0.8393\n",
      "epoch :116, \tloss :0.5245, \taccuracy :0.8482\n",
      "epoch :117, \tloss :0.5546, \taccuracy :0.7857\n",
      "epoch :118, \tloss :0.6062, \taccuracy :0.75\n",
      "epoch :119, \tloss :0.5029, \taccuracy :0.8304\n",
      "epoch :120, \tloss :0.5396, \taccuracy :0.8036\n",
      "epoch :121, \tloss :0.4761, \taccuracy :0.8482\n",
      "epoch :122, \tloss :0.5278, \taccuracy :0.8036\n",
      "epoch :123, \tloss :0.5682, \taccuracy :0.8036\n",
      "epoch :124, \tloss :0.5749, \taccuracy :0.7768\n",
      "epoch :125, \tloss :0.6372, \taccuracy :0.7232\n",
      "epoch :126, \tloss :0.4281, \taccuracy :0.8482\n",
      "epoch :127, \tloss :0.5605, \taccuracy :0.7768\n",
      "epoch :128, \tloss :0.4936, \taccuracy :0.8036\n",
      "epoch :129, \tloss :0.5184, \taccuracy :0.7857\n",
      "epoch :130, \tloss :0.5598, \taccuracy :0.7679\n",
      "epoch :131, \tloss :0.4706, \taccuracy :0.8393\n",
      "epoch :132, \tloss :0.5383, \taccuracy :0.7679\n",
      "epoch :133, \tloss :0.4629, \taccuracy :0.8393\n",
      "epoch :134, \tloss :0.4935, \taccuracy :0.8036\n",
      "epoch :135, \tloss :0.4749, \taccuracy :0.8393\n",
      "epoch :136, \tloss :0.5318, \taccuracy :0.75\n",
      "epoch :137, \tloss :0.4781, \taccuracy :0.8036\n",
      "epoch :138, \tloss :0.4597, \taccuracy :0.8571\n",
      "epoch :139, \tloss :0.4756, \taccuracy :0.8393\n",
      "epoch :140, \tloss :0.4967, \taccuracy :0.8304\n",
      "epoch :141, \tloss :0.4912, \taccuracy :0.8125\n",
      "epoch :142, \tloss :0.4046, \taccuracy :0.8571\n",
      "epoch :143, \tloss :0.4789, \taccuracy :0.8125\n",
      "epoch :144, \tloss :0.5822, \taccuracy :0.7589\n",
      "epoch :145, \tloss :0.4708, \taccuracy :0.8393\n",
      "epoch :146, \tloss :0.4771, \taccuracy :0.8125\n",
      "epoch :147, \tloss :0.4542, \taccuracy :0.8214\n",
      "epoch :148, \tloss :0.5154, \taccuracy :0.8214\n",
      "epoch :149, \tloss :0.415, \taccuracy :0.8661\n",
      "epoch :150, \tloss :0.4862, \taccuracy :0.7768\n",
      "epoch :151, \tloss :0.3991, \taccuracy :0.8839\n",
      "epoch :152, \tloss :0.5827, \taccuracy :0.75\n",
      "epoch :153, \tloss :0.4326, \taccuracy :0.8571\n",
      "epoch :154, \tloss :0.3642, \taccuracy :0.8839\n",
      "epoch :155, \tloss :0.5034, \taccuracy :0.7946\n",
      "epoch :156, \tloss :0.5995, \taccuracy :0.7232\n",
      "epoch :157, \tloss :0.5962, \taccuracy :0.75\n",
      "epoch :158, \tloss :0.4323, \taccuracy :0.8482\n",
      "epoch :159, \tloss :0.5012, \taccuracy :0.7679\n",
      "epoch :160, \tloss :0.4436, \taccuracy :0.8214\n",
      "epoch :161, \tloss :0.5538, \taccuracy :0.7857\n",
      "epoch :162, \tloss :0.4064, \taccuracy :0.8482\n",
      "epoch :163, \tloss :0.449, \taccuracy :0.8214\n",
      "epoch :164, \tloss :0.462, \taccuracy :0.8214\n",
      "epoch :165, \tloss :0.6292, \taccuracy :0.7232\n",
      "epoch :166, \tloss :0.427, \taccuracy :0.8393\n",
      "epoch :167, \tloss :0.5714, \taccuracy :0.7411\n",
      "epoch :168, \tloss :0.4911, \taccuracy :0.7857\n",
      "epoch :169, \tloss :0.3935, \taccuracy :0.8661\n",
      "epoch :170, \tloss :0.4376, \taccuracy :0.8214\n",
      "epoch :171, \tloss :0.4876, \taccuracy :0.8214\n",
      "epoch :172, \tloss :0.4326, \taccuracy :0.8214\n",
      "epoch :173, \tloss :0.4115, \taccuracy :0.9018\n",
      "epoch :174, \tloss :0.4464, \taccuracy :0.8214\n",
      "epoch :175, \tloss :0.4658, \taccuracy :0.8214\n",
      "epoch :176, \tloss :0.4761, \taccuracy :0.8125\n",
      "epoch :177, \tloss :0.384, \taccuracy :0.8393\n",
      "epoch :178, \tloss :0.4551, \taccuracy :0.8393\n",
      "epoch :179, \tloss :0.4588, \taccuracy :0.8125\n",
      "epoch :180, \tloss :0.3992, \taccuracy :0.8661\n",
      "epoch :181, \tloss :0.533, \taccuracy :0.8036\n",
      "epoch :182, \tloss :0.4284, \taccuracy :0.8661\n",
      "epoch :183, \tloss :0.6088, \taccuracy :0.7679\n",
      "epoch :184, \tloss :0.4397, \taccuracy :0.8214\n"
     ]
    },
    {
     "name": "stdout",
     "output_type": "stream",
     "text": [
      "epoch :185, \tloss :0.5116, \taccuracy :0.8482\n",
      "epoch :186, \tloss :0.5715, \taccuracy :0.7857\n",
      "epoch :187, \tloss :0.4377, \taccuracy :0.8304\n",
      "epoch :188, \tloss :0.4204, \taccuracy :0.8214\n",
      "epoch :189, \tloss :0.4993, \taccuracy :0.7679\n",
      "epoch :190, \tloss :0.4329, \taccuracy :0.8571\n",
      "epoch :191, \tloss :0.4487, \taccuracy :0.8304\n",
      "epoch :192, \tloss :0.493, \taccuracy :0.8036\n",
      "epoch :193, \tloss :0.4261, \taccuracy :0.8393\n",
      "epoch :194, \tloss :0.4005, \taccuracy :0.8393\n",
      "epoch :195, \tloss :0.4442, \taccuracy :0.8571\n",
      "epoch :196, \tloss :0.4536, \taccuracy :0.8125\n",
      "epoch :197, \tloss :0.5917, \taccuracy :0.7411\n",
      "epoch :198, \tloss :0.3952, \taccuracy :0.8393\n",
      "epoch :199, \tloss :0.4598, \taccuracy :0.8482\n",
      "epoch :200, \tloss :0.5104, \taccuracy :0.7946\n"
     ]
    }
   ],
   "source": [
    "losses = list()\n",
    "accuracies = list()\n",
    "\n",
    "for epoch in range(epochs):\n",
    "  epoch_loss = 0  \n",
    "  epoch_accuracy = 0\n",
    "  for X, y in train_loader:\n",
    "  \n",
    "    optimizer.zero_grad()\n",
    "    \n",
    "    output = net(X)\n",
    "\n",
    "    loss = criterion(output, y)\n",
    "    loss.backward()\n",
    "    \n",
    "    optimizer.step()\n",
    "    # output = [0.11, 0.5, 0.8]  --> 예측 클래스 값\n",
    "    _, predicted = torch.max(output, dim=1)\n",
    "    accuracy = (predicted == y).sum().item()\n",
    "    epoch_loss += loss.item()\n",
    "    epoch_accuracy += accuracy\n",
    "  \n",
    "\n",
    "  epoch_loss /= len(train_loader)\n",
    "  epoch_accuracy /= len(X_train)\n",
    "  print(\"epoch :{}, \\tloss :{}, \\taccuracy :{}\".format(str(epoch+1).zfill(3),round(epoch_loss,4), round(epoch_accuracy,4)))\n",
    "  \n",
    "  losses.append(epoch_loss)\n",
    "  accuracies.append(epoch_accuracy)"
   ]
  },
  {
   "cell_type": "code",
   "execution_count": 36,
   "metadata": {
    "id": "jyD5qnrK36oE"
   },
   "outputs": [
    {
     "data": {
      "image/png": "[encoded data removed]",
      "text/plain": [
       "<Figure size 1440x360 with 2 Axes>"
      ]
     },
     "metadata": {
      "needs_background": "light"
     },
     "output_type": "display_data"
    }
   ],
   "source": [
    "# Plot result\n",
    "\n",
    "import matplotlib.pyplot as plt\n",
    "\n",
    "plt.figure(figsize=(20,5))\n",
    "plt.subplots_adjust(wspace=0.2)\n",
    "\n",
    "plt.subplot(1,2,1)\n",
    "plt.title(\"$loss$\",fontsize = 18)\n",
    "plt.plot(losses)\n",
    "plt.grid()\n",
    "plt.xlabel(\"$epochs$\", fontsize = 16)\n",
    "plt.xticks(fontsize = 14)\n",
    "plt.yticks(fontsize = 14)\n",
    "\n",
    "\n",
    "plt.subplot(1,2,2)\n",
    "plt.title(\"$accuracy$\", fontsize = 18)\n",
    "plt.plot(accuracies)\n",
    "plt.grid()\n",
    "plt.xlabel(\"$epochs$\", fontsize = 16)\n",
    "plt.xticks(fontsize = 14)\n",
    "plt.yticks(fontsize = 14)\n",
    "\n",
    "plt.show()"
   ]
  },
  {
   "cell_type": "code",
   "execution_count": 38,
   "metadata": {
    "id": "RY6hOROnnaRG"
   },
   "outputs": [
    {
     "name": "stdout",
     "output_type": "stream",
     "text": [
      "torch.return_types.max(\n",
      "values=tensor([1.3195, 0.8905, 2.2739, 2.8837, 2.1053, 4.1774, 1.2014, 3.5647, 0.9119,\n",
      "        1.9835, 2.1319, 0.8484, 1.9893, 1.5382, 2.1648, 0.8038, 2.9274, 1.1330,\n",
      "        1.4533, 3.2502, 1.9343, 3.6618, 1.8325, 1.5858, 1.4769, 1.5968, 1.9140,\n",
      "        2.3784, 2.2139, 2.6875, 2.4226, 1.9942, 1.3493, 2.5701, 1.1772, 3.4934,\n",
      "        2.9197, 2.2681], grad_fn=<MaxBackward0>),\n",
      "indices=tensor([1, 2, 0, 0, 1, 0, 1, 0, 0, 2, 1, 1, 1, 2, 2, 1, 0, 1, 2, 0, 1, 0, 1, 2,\n",
      "        1, 2, 2, 2, 1, 0, 2, 2, 2, 2, 1, 0, 0, 2]))\n",
      "test_set accuracy : 0.9474\n"
     ]
    }
   ],
   "source": [
    "# Test\n",
    "\n",
    "output = net(X_test)\n",
    "print(torch.max(output, dim=1))\n",
    "_, predicted = torch.max(output, dim=1)\n",
    "accuracy = round((predicted == y_test).sum().item() / len(y_test),4)\n",
    "\n",
    "\n",
    "print(\"test_set accuracy :\", round(accuracy,4))"
   ]
  },
  {
   "cell_type": "code",
   "execution_count": null,
   "metadata": {
    "id": "MeVLbpX342HJ"
   },
   "outputs": [],
   "source": []
  }
 ],
 "metadata": {
  "colab": {
   "collapsed_sections": [],
   "name": "Pytorch Tutorial(Autograd, MLP).ipynb",
   "provenance": []
  },
  "kernelspec": {
   "display_name": "Python 3",
   "language": "python",
   "name": "python3"
  },
  "language_info": {
   "codemirror_mode": {
    "name": "ipython",
    "version": 3
   },
   "file_extension": ".py",
   "mimetype": "text/x-python",
   "name": "python",
   "nbconvert_exporter": "python",
   "pygments_lexer": "ipython3",
   "version": "3.8.2"
  }
 },
 "nbformat": 4,
 "nbformat_minor": 1
}
