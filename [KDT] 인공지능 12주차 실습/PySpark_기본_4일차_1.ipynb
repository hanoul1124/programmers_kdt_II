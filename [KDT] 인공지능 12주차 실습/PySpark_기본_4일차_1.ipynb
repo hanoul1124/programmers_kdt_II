{
  "nbformat": 4,
  "nbformat_minor": 0,
  "metadata": {
    "colab": {
      "name": "PySpark 기본: 4일차-1",
      "provenance": []
    },
    "kernelspec": {
      "name": "python3",
      "display_name": "Python 3"
    }
  },
  "cells": [
    {
      "cell_type": "markdown",
      "metadata": {
        "id": "xAqhTDfuWrcM"
      },
      "source": [
        "PySpark을 로컬머신에 설치하고 노트북을 사용하기 보다는 머신러닝 관련 다양한 라이브러리가 이미 설치되었고 좋은 하드웨어를 제공해주는 Google Colab을 통해 실습을 진행한다."
      ]
    },
    {
      "cell_type": "markdown",
      "metadata": {
        "id": "XIA23YgbXKJd"
      },
      "source": [
        "이를 위해 pyspark과 Py4J 패키지를 설치한다. Py4J 패키지는 파이썬 프로그램이 자바가상머신상의 오브젝트들을 접근할 수 있게 해준다. Local Standalone Spark을 사용한다."
      ]
    },
    {
      "cell_type": "code",
      "metadata": {
        "colab": {
          "base_uri": "https://localhost:8080/"
        },
        "id": "NbT0rpGfVdiq",
        "outputId": "1d41360c-21a3-414a-8ed7-0ed65cf602ac"
      },
      "source": [
        "!pip install pyspark==3.0.1 py4j==0.10.9 "
      ],
      "execution_count": 1,
      "outputs": [
        {
          "output_type": "stream",
          "name": "stdout",
          "text": [
            "Collecting pyspark==3.0.1\n",
            "  Downloading pyspark-3.0.1.tar.gz (204.2 MB)\n",
            "\u001b[K     |████████████████████████████████| 204.2 MB 33 kB/s \n",
            "\u001b[?25hCollecting py4j==0.10.9\n",
            "  Downloading py4j-0.10.9-py2.py3-none-any.whl (198 kB)\n",
            "\u001b[K     |████████████████████████████████| 198 kB 53.8 MB/s \n",
            "\u001b[?25hBuilding wheels for collected packages: pyspark\n",
            "  Building wheel for pyspark (setup.py) ... \u001b[?25l\u001b[?25hdone\n",
            "  Created wheel for pyspark: filename=pyspark-3.0.1-py2.py3-none-any.whl size=204612243 sha256=af774b053ace0e4d7df60a9ac0fba76503d6cd39128282a0cdf2c4de1565f3a0\n",
            "  Stored in directory: /root/.cache/pip/wheels/5e/34/fa/b37b5cef503fc5148b478b2495043ba61b079120b7ff379f9b\n",
            "Successfully built pyspark\n",
            "Installing collected packages: py4j, pyspark\n",
            "Successfully installed py4j-0.10.9 pyspark-3.0.1\n"
          ]
        }
      ]
    },
    {
      "cell_type": "code",
      "metadata": {
        "id": "3vm6tgcPXdnR"
      },
      "source": [
        "from pyspark.sql import SparkSession\n",
        "\n",
        "spark = SparkSession \\\n",
        "    .builder \\\n",
        "    .appName(\"Boston Housing Linear Regression example\") \\\n",
        "    .getOrCreate()"
      ],
      "execution_count": 2,
      "outputs": []
    },
    {
      "cell_type": "markdown",
      "metadata": {
        "id": "pyl0gES0KhkF"
      },
      "source": [
        "# 보스턴 주택 가격 예측 모델 만들기\n",
        "\n",
        "\n"
      ]
    },
    {
      "cell_type": "code",
      "metadata": {
        "colab": {
          "base_uri": "https://localhost:8080/",
          "height": 222
        },
        "id": "LSs_1PYaYWxI",
        "outputId": "2f9ce5f3-2638-46e2-d4a3-000f60955ad6"
      },
      "source": [
        "spark"
      ],
      "execution_count": 3,
      "outputs": [
        {
          "output_type": "execute_result",
          "data": {
            "text/plain": [
              "<pyspark.sql.session.SparkSession at 0x7f80c8862b50>"
            ],
            "text/html": [
              "\n",
              "            <div>\n",
              "                <p><b>SparkSession - in-memory</b></p>\n",
              "                \n",
              "        <div>\n",
              "            <p><b>SparkContext</b></p>\n",
              "\n",
              "            <p><a href=\"http://ab5913af0447:4040\">Spark UI</a></p>\n",
              "\n",
              "            <dl>\n",
              "              <dt>Version</dt>\n",
              "                <dd><code>v3.0.1</code></dd>\n",
              "              <dt>Master</dt>\n",
              "                <dd><code>local[*]</code></dd>\n",
              "              <dt>AppName</dt>\n",
              "                <dd><code>Boston Housing Linear Regression example</code></dd>\n",
              "            </dl>\n",
              "        </div>\n",
              "        \n",
              "            </div>\n",
              "        "
            ]
          },
          "metadata": {},
          "execution_count": 3
        }
      ]
    },
    {
      "cell_type": "code",
      "metadata": {
        "id": "vE8iL4vy6705",
        "colab": {
          "base_uri": "https://localhost:8080/"
        },
        "outputId": "8b5f099b-4478-41fa-e64c-5cd281ad7b76"
      },
      "source": [
        "!wget https://s3-geospatial.s3-us-west-2.amazonaws.com/boston_housing.csv"
      ],
      "execution_count": 4,
      "outputs": [
        {
          "output_type": "stream",
          "name": "stdout",
          "text": [
            "--2022-03-29 18:54:27--  https://s3-geospatial.s3-us-west-2.amazonaws.com/boston_housing.csv\n",
            "Resolving s3-geospatial.s3-us-west-2.amazonaws.com (s3-geospatial.s3-us-west-2.amazonaws.com)... 52.218.185.249\n",
            "Connecting to s3-geospatial.s3-us-west-2.amazonaws.com (s3-geospatial.s3-us-west-2.amazonaws.com)|52.218.185.249|:443... connected.\n",
            "HTTP request sent, awaiting response... 200 OK\n",
            "Length: 36240 (35K) [text/csv]\n",
            "Saving to: ‘boston_housing.csv’\n",
            "\n",
            "\rboston_housing.csv    0%[                    ]       0  --.-KB/s               \rboston_housing.csv  100%[===================>]  35.39K  --.-KB/s    in 0.01s   \n",
            "\n",
            "2022-03-29 18:54:27 (2.60 MB/s) - ‘boston_housing.csv’ saved [36240/36240]\n",
            "\n"
          ]
        }
      ]
    },
    {
      "cell_type": "code",
      "metadata": {
        "colab": {
          "base_uri": "https://localhost:8080/"
        },
        "id": "GfSzc03fOC6e",
        "outputId": "bc5d1bba-34ec-4e6c-a6ea-806cc0d64294"
      },
      "source": [
        "!ls -tl"
      ],
      "execution_count": 5,
      "outputs": [
        {
          "output_type": "stream",
          "name": "stdout",
          "text": [
            "total 40\n",
            "drwxr-xr-x 1 root root  4096 Mar 23 14:22 sample_data\n",
            "-rw-r--r-- 1 root root 36240 Jan 31  2021 boston_housing.csv\n"
          ]
        }
      ]
    },
    {
      "cell_type": "code",
      "metadata": {
        "id": "-mH3roiKIOix"
      },
      "source": [
        "data = spark.read.csv('./boston_housing.csv', header=True, inferSchema=True)"
      ],
      "execution_count": 6,
      "outputs": []
    },
    {
      "cell_type": "code",
      "metadata": {
        "colab": {
          "base_uri": "https://localhost:8080/"
        },
        "id": "SCty0kw6ITVi",
        "outputId": "b9beb872-3c98-46ab-9ce7-f7cfac864a58"
      },
      "source": [
        "data.printSchema()"
      ],
      "execution_count": 7,
      "outputs": [
        {
          "output_type": "stream",
          "name": "stdout",
          "text": [
            "root\n",
            " |-- crim: double (nullable = true)\n",
            " |-- zn: double (nullable = true)\n",
            " |-- indus: double (nullable = true)\n",
            " |-- chas: integer (nullable = true)\n",
            " |-- nox: double (nullable = true)\n",
            " |-- rm: double (nullable = true)\n",
            " |-- age: double (nullable = true)\n",
            " |-- dis: double (nullable = true)\n",
            " |-- rad: integer (nullable = true)\n",
            " |-- tax: integer (nullable = true)\n",
            " |-- ptratio: double (nullable = true)\n",
            " |-- b: double (nullable = true)\n",
            " |-- lstat: double (nullable = true)\n",
            " |-- medv: double (nullable = true)\n",
            "\n"
          ]
        }
      ]
    },
    {
      "cell_type": "code",
      "metadata": {
        "colab": {
          "base_uri": "https://localhost:8080/"
        },
        "id": "nrlYYyVfIV1e",
        "outputId": "fe2c8e1b-07ae-4fed-837a-0039cd5ab804"
      },
      "source": [
        "data.show()"
      ],
      "execution_count": 8,
      "outputs": [
        {
          "output_type": "stream",
          "name": "stdout",
          "text": [
            "+-------+----+-----+----+-----+-----+-----+------+---+---+-------+------+-----+----+\n",
            "|   crim|  zn|indus|chas|  nox|   rm|  age|   dis|rad|tax|ptratio|     b|lstat|medv|\n",
            "+-------+----+-----+----+-----+-----+-----+------+---+---+-------+------+-----+----+\n",
            "|0.00632|18.0| 2.31|   0|0.538|6.575| 65.2|  4.09|  1|296|   15.3| 396.9| 4.98|24.0|\n",
            "|0.02731| 0.0| 7.07|   0|0.469|6.421| 78.9|4.9671|  2|242|   17.8| 396.9| 9.14|21.6|\n",
            "|0.02729| 0.0| 7.07|   0|0.469|7.185| 61.1|4.9671|  2|242|   17.8|392.83| 4.03|34.7|\n",
            "|0.03237| 0.0| 2.18|   0|0.458|6.998| 45.8|6.0622|  3|222|   18.7|394.63| 2.94|33.4|\n",
            "|0.06905| 0.0| 2.18|   0|0.458|7.147| 54.2|6.0622|  3|222|   18.7| 396.9| 5.33|36.2|\n",
            "|0.02985| 0.0| 2.18|   0|0.458| 6.43| 58.7|6.0622|  3|222|   18.7|394.12| 5.21|28.7|\n",
            "|0.08829|12.5| 7.87|   0|0.524|6.012| 66.6|5.5605|  5|311|   15.2| 395.6|12.43|22.9|\n",
            "|0.14455|12.5| 7.87|   0|0.524|6.172| 96.1|5.9505|  5|311|   15.2| 396.9|19.15|27.1|\n",
            "|0.21124|12.5| 7.87|   0|0.524|5.631|100.0|6.0821|  5|311|   15.2|386.63|29.93|16.5|\n",
            "|0.17004|12.5| 7.87|   0|0.524|6.004| 85.9|6.5921|  5|311|   15.2|386.71| 17.1|18.9|\n",
            "|0.22489|12.5| 7.87|   0|0.524|6.377| 94.3|6.3467|  5|311|   15.2|392.52|20.45|15.0|\n",
            "|0.11747|12.5| 7.87|   0|0.524|6.009| 82.9|6.2267|  5|311|   15.2| 396.9|13.27|18.9|\n",
            "|0.09378|12.5| 7.87|   0|0.524|5.889| 39.0|5.4509|  5|311|   15.2| 390.5|15.71|21.7|\n",
            "|0.62976| 0.0| 8.14|   0|0.538|5.949| 61.8|4.7075|  4|307|   21.0| 396.9| 8.26|20.4|\n",
            "|0.63796| 0.0| 8.14|   0|0.538|6.096| 84.5|4.4619|  4|307|   21.0|380.02|10.26|18.2|\n",
            "|0.62739| 0.0| 8.14|   0|0.538|5.834| 56.5|4.4986|  4|307|   21.0|395.62| 8.47|19.9|\n",
            "|1.05393| 0.0| 8.14|   0|0.538|5.935| 29.3|4.4986|  4|307|   21.0|386.85| 6.58|23.1|\n",
            "| 0.7842| 0.0| 8.14|   0|0.538| 5.99| 81.7|4.2579|  4|307|   21.0|386.75|14.67|17.5|\n",
            "|0.80271| 0.0| 8.14|   0|0.538|5.456| 36.6|3.7965|  4|307|   21.0|288.99|11.69|20.2|\n",
            "| 0.7258| 0.0| 8.14|   0|0.538|5.727| 69.5|3.7965|  4|307|   21.0|390.95|11.28|18.2|\n",
            "+-------+----+-----+----+-----+-----+-----+------+---+---+-------+------+-----+----+\n",
            "only showing top 20 rows\n",
            "\n"
          ]
        }
      ]
    },
    {
      "cell_type": "markdown",
      "metadata": {
        "id": "cGMk-ULmLcVM"
      },
      "source": [
        "## 피쳐 벡터를 만들기"
      ]
    },
    {
      "cell_type": "code",
      "metadata": {
        "id": "vBYWOVQYIXEt"
      },
      "source": [
        "from pyspark.ml.feature import VectorAssembler\n",
        "\n",
        "# 학습시킬 feature를 벡터 하나로 묶고, 테이블 상으로는 feature vector / 정답 label 로 이루어진 형태로 간소화한다\n",
        "feature_columns = data.columns[:-1] # 마지막 feature만 빼고\n",
        "assembler = VectorAssembler(inputCols=feature_columns, outputCol=\"features\")"
      ],
      "execution_count": 9,
      "outputs": []
    },
    {
      "cell_type": "code",
      "metadata": {
        "colab": {
          "base_uri": "https://localhost:8080/"
        },
        "id": "SAkNEWkhO9Vk",
        "outputId": "90eb490d-d397-4f25-ccd5-120e7eb5ab78"
      },
      "source": [
        "feature_columns"
      ],
      "execution_count": 10,
      "outputs": [
        {
          "output_type": "execute_result",
          "data": {
            "text/plain": [
              "['crim',\n",
              " 'zn',\n",
              " 'indus',\n",
              " 'chas',\n",
              " 'nox',\n",
              " 'rm',\n",
              " 'age',\n",
              " 'dis',\n",
              " 'rad',\n",
              " 'tax',\n",
              " 'ptratio',\n",
              " 'b',\n",
              " 'lstat']"
            ]
          },
          "metadata": {},
          "execution_count": 10
        }
      ]
    },
    {
      "cell_type": "code",
      "metadata": {
        "id": "8J0_WrOYIqA0"
      },
      "source": [
        "data_2 = assembler.transform(data) # transform(data) : data를 받아서 data에 새로운 column(assembler)을 추가해주는 기능"
      ],
      "execution_count": 11,
      "outputs": []
    },
    {
      "cell_type": "code",
      "metadata": {
        "colab": {
          "base_uri": "https://localhost:8080/"
        },
        "id": "e0WZHfxmIuxr",
        "outputId": "a4aaa977-6de3-4ab6-ce72-539231c3413c"
      },
      "source": [
        "data_2.show() # features Column이 추가되어 있음"
      ],
      "execution_count": 13,
      "outputs": [
        {
          "output_type": "stream",
          "name": "stdout",
          "text": [
            "+-------+----+-----+----+-----+-----+-----+------+---+---+-------+------+-----+----+--------------------+\n",
            "|   crim|  zn|indus|chas|  nox|   rm|  age|   dis|rad|tax|ptratio|     b|lstat|medv|            features|\n",
            "+-------+----+-----+----+-----+-----+-----+------+---+---+-------+------+-----+----+--------------------+\n",
            "|0.00632|18.0| 2.31|   0|0.538|6.575| 65.2|  4.09|  1|296|   15.3| 396.9| 4.98|24.0|[0.00632,18.0,2.3...|\n",
            "|0.02731| 0.0| 7.07|   0|0.469|6.421| 78.9|4.9671|  2|242|   17.8| 396.9| 9.14|21.6|[0.02731,0.0,7.07...|\n",
            "|0.02729| 0.0| 7.07|   0|0.469|7.185| 61.1|4.9671|  2|242|   17.8|392.83| 4.03|34.7|[0.02729,0.0,7.07...|\n",
            "|0.03237| 0.0| 2.18|   0|0.458|6.998| 45.8|6.0622|  3|222|   18.7|394.63| 2.94|33.4|[0.03237,0.0,2.18...|\n",
            "|0.06905| 0.0| 2.18|   0|0.458|7.147| 54.2|6.0622|  3|222|   18.7| 396.9| 5.33|36.2|[0.06905,0.0,2.18...|\n",
            "|0.02985| 0.0| 2.18|   0|0.458| 6.43| 58.7|6.0622|  3|222|   18.7|394.12| 5.21|28.7|[0.02985,0.0,2.18...|\n",
            "|0.08829|12.5| 7.87|   0|0.524|6.012| 66.6|5.5605|  5|311|   15.2| 395.6|12.43|22.9|[0.08829,12.5,7.8...|\n",
            "|0.14455|12.5| 7.87|   0|0.524|6.172| 96.1|5.9505|  5|311|   15.2| 396.9|19.15|27.1|[0.14455,12.5,7.8...|\n",
            "|0.21124|12.5| 7.87|   0|0.524|5.631|100.0|6.0821|  5|311|   15.2|386.63|29.93|16.5|[0.21124,12.5,7.8...|\n",
            "|0.17004|12.5| 7.87|   0|0.524|6.004| 85.9|6.5921|  5|311|   15.2|386.71| 17.1|18.9|[0.17004,12.5,7.8...|\n",
            "|0.22489|12.5| 7.87|   0|0.524|6.377| 94.3|6.3467|  5|311|   15.2|392.52|20.45|15.0|[0.22489,12.5,7.8...|\n",
            "|0.11747|12.5| 7.87|   0|0.524|6.009| 82.9|6.2267|  5|311|   15.2| 396.9|13.27|18.9|[0.11747,12.5,7.8...|\n",
            "|0.09378|12.5| 7.87|   0|0.524|5.889| 39.0|5.4509|  5|311|   15.2| 390.5|15.71|21.7|[0.09378,12.5,7.8...|\n",
            "|0.62976| 0.0| 8.14|   0|0.538|5.949| 61.8|4.7075|  4|307|   21.0| 396.9| 8.26|20.4|[0.62976,0.0,8.14...|\n",
            "|0.63796| 0.0| 8.14|   0|0.538|6.096| 84.5|4.4619|  4|307|   21.0|380.02|10.26|18.2|[0.63796,0.0,8.14...|\n",
            "|0.62739| 0.0| 8.14|   0|0.538|5.834| 56.5|4.4986|  4|307|   21.0|395.62| 8.47|19.9|[0.62739,0.0,8.14...|\n",
            "|1.05393| 0.0| 8.14|   0|0.538|5.935| 29.3|4.4986|  4|307|   21.0|386.85| 6.58|23.1|[1.05393,0.0,8.14...|\n",
            "| 0.7842| 0.0| 8.14|   0|0.538| 5.99| 81.7|4.2579|  4|307|   21.0|386.75|14.67|17.5|[0.7842,0.0,8.14,...|\n",
            "|0.80271| 0.0| 8.14|   0|0.538|5.456| 36.6|3.7965|  4|307|   21.0|288.99|11.69|20.2|[0.80271,0.0,8.14...|\n",
            "| 0.7258| 0.0| 8.14|   0|0.538|5.727| 69.5|3.7965|  4|307|   21.0|390.95|11.28|18.2|[0.7258,0.0,8.14,...|\n",
            "+-------+----+-----+----+-----+-----+-----+------+---+---+-------+------+-----+----+--------------------+\n",
            "only showing top 20 rows\n",
            "\n"
          ]
        }
      ]
    },
    {
      "cell_type": "markdown",
      "metadata": {
        "id": "6kK7gG2JLjy_"
      },
      "source": [
        "## 훈련용과 테스트용 데이터를 나누고 Linear Regression 모델을 하나 만든다"
      ]
    },
    {
      "cell_type": "code",
      "metadata": {
        "id": "OEmZtDfzIyvc"
      },
      "source": [
        "train, test = data_2.randomSplit([0.7, 0.3])"
      ],
      "execution_count": 14,
      "outputs": []
    },
    {
      "cell_type": "code",
      "metadata": {
        "id": "y1cKT-0-I2rt"
      },
      "source": [
        "from pyspark.ml.regression import LinearRegression\n",
        "\n",
        "algo = LinearRegression(featuresCol=\"features\", labelCol=\"medv\")\n",
        "model = algo.fit(train)"
      ],
      "execution_count": 15,
      "outputs": []
    },
    {
      "cell_type": "markdown",
      "metadata": {
        "id": "ELSupsQVLFK-"
      },
      "source": [
        "## 모델 성능 측정"
      ]
    },
    {
      "cell_type": "code",
      "metadata": {
        "id": "LDzlKgOTJkTJ"
      },
      "source": [
        "evaluation_summary = model.evaluate(test)"
      ],
      "execution_count": 16,
      "outputs": []
    },
    {
      "cell_type": "code",
      "metadata": {
        "colab": {
          "base_uri": "https://localhost:8080/"
        },
        "id": "02BIJYu4JnNJ",
        "outputId": "77e87cf7-3402-4f51-d719-09577d0d521a"
      },
      "source": [
        "evaluation_summary"
      ],
      "execution_count": 17,
      "outputs": [
        {
          "output_type": "execute_result",
          "data": {
            "text/plain": [
              "<pyspark.ml.regression.LinearRegressionSummary at 0x7f80c5cce150>"
            ]
          },
          "metadata": {},
          "execution_count": 17
        }
      ]
    },
    {
      "cell_type": "code",
      "metadata": {
        "colab": {
          "base_uri": "https://localhost:8080/"
        },
        "id": "GDSM4ZAeJrFa",
        "outputId": "c373944a-a60a-405d-c6ee-df6f362f283c"
      },
      "source": [
        "evaluation_summary.meanAbsoluteError"
      ],
      "execution_count": 18,
      "outputs": [
        {
          "output_type": "execute_result",
          "data": {
            "text/plain": [
              "3.459933231752423"
            ]
          },
          "metadata": {},
          "execution_count": 18
        }
      ]
    },
    {
      "cell_type": "code",
      "metadata": {
        "colab": {
          "base_uri": "https://localhost:8080/"
        },
        "id": "idZshiJqJuOl",
        "outputId": "24146198-4432-4495-df27-1103cba5310d"
      },
      "source": [
        "evaluation_summary.rootMeanSquaredError"
      ],
      "execution_count": 19,
      "outputs": [
        {
          "output_type": "execute_result",
          "data": {
            "text/plain": [
              "4.966602825649544"
            ]
          },
          "metadata": {},
          "execution_count": 19
        }
      ]
    },
    {
      "cell_type": "code",
      "metadata": {
        "colab": {
          "base_uri": "https://localhost:8080/"
        },
        "id": "3VnnpJqYJx0d",
        "outputId": "6bb53da4-8339-4fe4-bcbb-2d8b33eb51b6"
      },
      "source": [
        "evaluation_summary.r2"
      ],
      "execution_count": 20,
      "outputs": [
        {
          "output_type": "execute_result",
          "data": {
            "text/plain": [
              "0.6878842288595739"
            ]
          },
          "metadata": {},
          "execution_count": 20
        }
      ]
    },
    {
      "cell_type": "markdown",
      "metadata": {
        "id": "k1V_bYQmLKy2"
      },
      "source": [
        "## 모델 예측값 살펴보기 "
      ]
    },
    {
      "cell_type": "code",
      "metadata": {
        "id": "1pegKAalJz4n"
      },
      "source": [
        "predictions = model.transform(test) # 여기서의 transform: bulk prediction 결과 column을 추가해줌"
      ],
      "execution_count": 21,
      "outputs": []
    },
    {
      "cell_type": "code",
      "metadata": {
        "colab": {
          "base_uri": "https://localhost:8080/"
        },
        "id": "8kpfjtXJRVus",
        "outputId": "58d73317-1403-4e33-b632-fdcd626649e7"
      },
      "source": [
        "predictions.show()"
      ],
      "execution_count": 22,
      "outputs": [
        {
          "output_type": "stream",
          "name": "stdout",
          "text": [
            "+-------+----+-----+----+------+-----+----+------+---+---+-------+------+-----+----+--------------------+------------------+\n",
            "|   crim|  zn|indus|chas|   nox|   rm| age|   dis|rad|tax|ptratio|     b|lstat|medv|            features|        prediction|\n",
            "+-------+----+-----+----+------+-----+----+------+---+---+-------+------+-----+----+--------------------+------------------+\n",
            "|0.01501|90.0| 1.21|   1| 0.401|7.923|24.8| 5.885|  1|198|   13.6|395.52| 3.16|50.0|[0.01501,90.0,1.2...| 45.46486256768377|\n",
            "|0.01778|95.0| 1.47|   0| 0.403|7.135|13.9|7.6534|  3|402|   17.0| 384.3| 4.45|32.9|[0.01778,95.0,1.4...| 30.91797979388035|\n",
            "|0.01951|17.5| 1.38|   0|0.4161|7.104|59.5|9.2229|  3|216|   18.6|393.24| 8.05|33.0|[0.01951,17.5,1.3...|23.813266549681686|\n",
            "|0.02498| 0.0| 1.89|   0| 0.518| 6.54|59.7|6.2669|  1|422|   15.9|389.96| 8.65|16.5|[0.02498,0.0,1.89...|22.960027602013582|\n",
            "|0.02731| 0.0| 7.07|   0| 0.469|6.421|78.9|4.9671|  2|242|   17.8| 396.9| 9.14|21.6|[0.02731,0.0,7.07...|25.010168851197506|\n",
            "|0.03237| 0.0| 2.18|   0| 0.458|6.998|45.8|6.0622|  3|222|   18.7|394.63| 2.94|33.4|[0.03237,0.0,2.18...| 28.96931669702303|\n",
            "|0.03306| 0.0| 5.19|   0| 0.515|6.059|37.3|4.8122|  5|224|   20.2|396.14| 8.51|20.6|[0.03306,0.0,5.19...|22.259275064949172|\n",
            "|0.03427| 0.0| 5.19|   0| 0.515|5.869|46.3|5.2311|  5|224|   20.2| 396.9|  9.8|19.5|[0.03427,0.0,5.19...|20.099677428849866|\n",
            "|0.03445|82.5| 2.03|   0| 0.415|6.162|38.4|  6.27|  2|348|   14.7|393.77| 7.43|24.1|[0.03445,82.5,2.0...|29.003915213148975|\n",
            "|0.03466|35.0| 6.06|   0|0.4379|6.031|23.3|6.6407|  1|304|   16.9|362.25| 7.83|19.4|[0.03466,35.0,6.0...|23.330666729706433|\n",
            "| 0.0351|95.0| 2.68|   0|0.4161|7.853|33.2| 5.118|  4|224|   14.7|392.78| 3.81|48.5|[0.0351,95.0,2.68...|42.365766920851826|\n",
            "|0.03537|34.0| 6.09|   0| 0.433| 6.59|40.4|5.4917|  7|329|   16.1|395.75|  9.5|22.0|[0.03537,34.0,6.0...|29.342519132425743|\n",
            "|0.03615|80.0| 4.95|   0| 0.411| 6.63|23.4|5.1167|  4|245|   19.2| 396.9|  4.7|27.9|[0.03615,80.0,4.9...|31.329113002933653|\n",
            "|0.03659|25.0| 4.86|   0| 0.426|6.302|32.2|5.4007|  4|281|   19.0| 396.9| 6.72|24.8|[0.03659,25.0,4.8...|26.033327988186954|\n",
            "|0.03705|20.0| 3.33|   0|0.4429|6.968|37.2|5.2447|  5|216|   14.9|392.23| 4.59|35.4|[0.03705,20.0,3.3...| 34.83030661743946|\n",
            "|0.03871|52.5| 5.32|   0| 0.405|6.209|31.3|7.3172|  6|293|   16.6| 396.9| 7.14|23.2|[0.03871,52.5,5.3...|26.840517411249277|\n",
            "|0.04011|80.0| 1.52|   0| 0.404|7.287|34.1| 7.309|  2|329|   12.6| 396.9| 4.08|33.3|[0.04011,80.0,1.5...|36.637584301731124|\n",
            "|0.04337|21.0| 5.64|   0| 0.439|6.115|63.0|6.8147|  4|243|   16.8|393.97| 9.43|20.5|[0.04337,21.0,5.6...|23.765251195523284|\n",
            "|0.04417|70.0| 2.24|   0|   0.4|6.871|47.4|7.8278|  5|358|   14.8|390.86| 6.07|24.8|[0.04417,70.0,2.2...|30.840628976173914|\n",
            "| 0.0456| 0.0|13.89|   1|  0.55|5.888|56.0|3.1121|  5|276|   16.4| 392.8|13.51|23.3|[0.0456,0.0,13.89...| 27.02540621006734|\n",
            "+-------+----+-----+----+------+-----+----+------+---+---+-------+------+-----+----+--------------------+------------------+\n",
            "only showing top 20 rows\n",
            "\n"
          ]
        }
      ]
    },
    {
      "cell_type": "code",
      "metadata": {
        "colab": {
          "base_uri": "https://localhost:8080/"
        },
        "id": "uxpTKuQyJ8mH",
        "outputId": "97218704-f6ff-4fd4-d97f-15bace6abb0f"
      },
      "source": [
        "predictions.select(predictions.columns[13:]).show()"
      ],
      "execution_count": 23,
      "outputs": [
        {
          "output_type": "stream",
          "name": "stdout",
          "text": [
            "+----+--------------------+------------------+\n",
            "|medv|            features|        prediction|\n",
            "+----+--------------------+------------------+\n",
            "|50.0|[0.01501,90.0,1.2...| 45.46486256768377|\n",
            "|32.9|[0.01778,95.0,1.4...| 30.91797979388035|\n",
            "|33.0|[0.01951,17.5,1.3...|23.813266549681686|\n",
            "|16.5|[0.02498,0.0,1.89...|22.960027602013582|\n",
            "|21.6|[0.02731,0.0,7.07...|25.010168851197506|\n",
            "|33.4|[0.03237,0.0,2.18...| 28.96931669702303|\n",
            "|20.6|[0.03306,0.0,5.19...|22.259275064949172|\n",
            "|19.5|[0.03427,0.0,5.19...|20.099677428849866|\n",
            "|24.1|[0.03445,82.5,2.0...|29.003915213148975|\n",
            "|19.4|[0.03466,35.0,6.0...|23.330666729706433|\n",
            "|48.5|[0.0351,95.0,2.68...|42.365766920851826|\n",
            "|22.0|[0.03537,34.0,6.0...|29.342519132425743|\n",
            "|27.9|[0.03615,80.0,4.9...|31.329113002933653|\n",
            "|24.8|[0.03659,25.0,4.8...|26.033327988186954|\n",
            "|35.4|[0.03705,20.0,3.3...| 34.83030661743946|\n",
            "|23.2|[0.03871,52.5,5.3...|26.840517411249277|\n",
            "|33.3|[0.04011,80.0,1.5...|36.637584301731124|\n",
            "|20.5|[0.04337,21.0,5.6...|23.765251195523284|\n",
            "|24.8|[0.04417,70.0,2.2...|30.840628976173914|\n",
            "|23.3|[0.0456,0.0,13.89...| 27.02540621006734|\n",
            "+----+--------------------+------------------+\n",
            "only showing top 20 rows\n",
            "\n"
          ]
        }
      ]
    },
    {
      "cell_type": "code",
      "metadata": {
        "id": "hiuqE26pKBYV"
      },
      "source": [
        "model.save(\"boston_housing_model\")"
      ],
      "execution_count": 24,
      "outputs": []
    },
    {
      "cell_type": "code",
      "metadata": {
        "colab": {
          "base_uri": "https://localhost:8080/"
        },
        "id": "-3LEk6_uSCxc",
        "outputId": "6bd0fc6a-65b4-4d21-bac8-56bc639a0cb7"
      },
      "source": [
        "!ls boston_housing_model"
      ],
      "execution_count": 25,
      "outputs": [
        {
          "output_type": "stream",
          "name": "stdout",
          "text": [
            "data  metadata\n"
          ]
        }
      ]
    },
    {
      "cell_type": "code",
      "metadata": {
        "id": "xvfSY3ATX9sl",
        "outputId": "c5daffaf-5bc0-48d7-f556-e94f90cd4cc4",
        "colab": {
          "base_uri": "https://localhost:8080/"
        }
      },
      "source": [
        "!ls -tl boston_housing_model"
      ],
      "execution_count": 26,
      "outputs": [
        {
          "output_type": "stream",
          "name": "stdout",
          "text": [
            "total 8\n",
            "drwxr-xr-x 2 root root 4096 Mar 29 19:04 data\n",
            "drwxr-xr-x 2 root root 4096 Mar 29 19:04 metadata\n"
          ]
        }
      ]
    },
    {
      "cell_type": "code",
      "metadata": {
        "colab": {
          "base_uri": "https://localhost:8080/"
        },
        "id": "NgwgLq6xgLwi",
        "outputId": "d6e7d90e-88d5-4d7f-bb24-1c536cbf3d22"
      },
      "source": [
        "from google.colab import drive\n",
        "drive.mount('/content/gdrive')"
      ],
      "execution_count": null,
      "outputs": [
        {
          "output_type": "stream",
          "text": [
            "Mounted at /content/gdrive\n"
          ],
          "name": "stdout"
        }
      ]
    },
    {
      "cell_type": "code",
      "metadata": {
        "id": "PFEMhdWbgVnk"
      },
      "source": [
        "model_save_name = \"boston_housing_model\"\n",
        "path = F\"/content/gdrive/My Drive/boston_housing_model2\" \n",
        "model.save(path)"
      ],
      "execution_count": null,
      "outputs": []
    },
    {
      "cell_type": "code",
      "metadata": {
        "id": "GnIczTktX_mC"
      },
      "source": [
        "from pyspark.ml.regression import LinearRegressionModel\n",
        "\n",
        "loaded_model = LinearRegressionModel.load(path)  # \"boston_housing_model\")"
      ],
      "execution_count": null,
      "outputs": []
    },
    {
      "cell_type": "code",
      "metadata": {
        "id": "rUPqrP4Beb7P"
      },
      "source": [
        "predictions2 = loaded_model.transform(test)"
      ],
      "execution_count": null,
      "outputs": []
    },
    {
      "cell_type": "code",
      "metadata": {
        "colab": {
          "base_uri": "https://localhost:8080/"
        },
        "id": "cXUj8afbfDLz",
        "outputId": "3b5f81bf-2664-4edd-d414-51c2848b35ba"
      },
      "source": [
        "predictions2.select(predictions.columns[13:]).show()"
      ],
      "execution_count": null,
      "outputs": [
        {
          "output_type": "stream",
          "text": [
            "+----+--------------------+------------------+\n",
            "|medv|            features|        prediction|\n",
            "+----+--------------------+------------------+\n",
            "|22.0|[0.01096,55.0,2.2...|26.571482297719307|\n",
            "|32.7|[0.01301,35.0,1.5...|30.167506151964368|\n",
            "|35.4|[0.01311,90.0,1.2...|30.335900587302184|\n",
            "|18.9|[0.0136,75.0,4.0,...|15.228505739892949|\n",
            "|50.0|[0.01501,90.0,1.2...| 44.80928824019599|\n",
            "|30.1|[0.01709,90.0,2.0...|25.264400971073016|\n",
            "|50.0|[0.02009,95.0,2.6...| 41.68916053418553|\n",
            "|42.3|[0.02177,82.5,2.0...|36.146191514394395|\n",
            "|16.5|[0.02498,0.0,1.89...|22.746885437097184|\n",
            "|23.9|[0.02543,55.0,3.7...|27.769299940712642|\n",
            "|30.8|[0.02763,75.0,2.9...| 30.72520875882616|\n",
            "|25.0|[0.02875,28.0,15....|28.649351219272933|\n",
            "|18.5|[0.03041,0.0,5.19...|19.578146685590635|\n",
            "|34.9|[0.0315,95.0,1.47...|29.605091447377312|\n",
            "|33.4|[0.03237,0.0,2.18...|28.946444601423302|\n",
            "|19.5|[0.03427,0.0,5.19...| 20.31754513618022|\n",
            "|19.4|[0.03466,35.0,6.0...|22.979032509331866|\n",
            "|45.4|[0.03578,20.0,3.3...| 38.10797692996398|\n",
            "|20.7|[0.03738,0.0,5.19...| 21.98230064873198|\n",
            "|20.6|[0.04294,28.0,15....| 26.75212862015282|\n",
            "+----+--------------------+------------------+\n",
            "only showing top 20 rows\n",
            "\n"
          ],
          "name": "stdout"
        }
      ]
    },
    {
      "cell_type": "code",
      "metadata": {
        "id": "DAyn3LSafJuv"
      },
      "source": [
        ""
      ],
      "execution_count": null,
      "outputs": []
    }
  ]
}